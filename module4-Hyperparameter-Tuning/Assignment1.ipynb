{
 "cells": [
  {
   "cell_type": "markdown",
   "metadata": {
    "colab_type": "text",
    "id": "9Ryp-TVm4njD"
   },
   "source": [
    "<img align=\"left\" src=\"https://lever-client-logos.s3.amazonaws.com/864372b1-534c-480e-acd5-9711f850815c-1524247202159.png\" width=200>\n",
    "<br></br>\n",
    "\n",
    "# Hyperparameter Tuning\n",
    "\n",
    "## *Data Science Unit 4 Sprint 2 Assignment 4*\n",
    "\n",
    "## Your Mission, should you choose to accept it...\n",
    "\n",
    "To hyperparameter tune and extract every ounce of accuracy out of this telecom customer churn dataset: <https://drive.google.com/file/d/1dfbAsM9DwA7tYhInyflIpZnYs7VT-0AQ/view> \n",
    "\n",
    "## Requirements\n",
    "\n",
    "- Load the data\n",
    "- Clean the data if necessary (it will be)\n",
    "- Create and fit a baseline Keras MLP model to the data.\n",
    "- Hyperparameter tune (at least) the following parameters:\n",
    " - batch_size\n",
    " - training epochs\n",
    " - optimizer\n",
    " - learning rate (if applicable to optimizer)\n",
    " - momentum (if applicable to optimizer)\n",
    " - activation functions\n",
    " - network weight initialization\n",
    " - dropout regularization\n",
    " - number of neurons in the hidden layer\n",
    " \n",
    " You must use Grid Search and Cross Validation for your initial pass of the above hyperparameters\n",
    " \n",
    " Try and get the maximum accuracy possible out of this data! You'll save big telecoms millions! Doesn't that sound great?\n"
   ]
  },
  {
   "cell_type": "code",
   "execution_count": 2,
   "metadata": {},
   "outputs": [],
   "source": [
    "import numpy as np\n",
    "import pandas as pd\n",
    "from matplotlib import pyplot as plt\n",
    "from sklearn.model_selection import train_test_split\n",
    "from sklearn.model_selection import GridSearchCV\n",
    " \n",
    "import tensorflow.keras\n",
    "from tensorflow.keras.models import Sequential\n",
    "from tensorflow.keras.layers import InputLayer\n",
    "from tensorflow.keras.layers import Dense\n",
    "from tensorflow.keras.layers import Dropout\n",
    "from tensorflow.keras.wrappers.scikit_learn import KerasClassifier"
   ]
  },
  {
   "cell_type": "code",
   "execution_count": 3,
   "metadata": {
    "colab": {},
    "colab_type": "code",
    "id": "NNJ-tOBs4jM1"
   },
   "outputs": [
    {
     "name": "stdout",
     "output_type": "stream",
     "text": [
      "(7043, 21)\n"
     ]
    },
    {
     "data": {
      "text/html": [
       "<div>\n",
       "<style scoped>\n",
       "    .dataframe tbody tr th:only-of-type {\n",
       "        vertical-align: middle;\n",
       "    }\n",
       "\n",
       "    .dataframe tbody tr th {\n",
       "        vertical-align: top;\n",
       "    }\n",
       "\n",
       "    .dataframe thead th {\n",
       "        text-align: right;\n",
       "    }\n",
       "</style>\n",
       "<table border=\"1\" class=\"dataframe\">\n",
       "  <thead>\n",
       "    <tr style=\"text-align: right;\">\n",
       "      <th></th>\n",
       "      <th>customerID</th>\n",
       "      <th>gender</th>\n",
       "      <th>SeniorCitizen</th>\n",
       "      <th>Partner</th>\n",
       "      <th>Dependents</th>\n",
       "      <th>tenure</th>\n",
       "      <th>PhoneService</th>\n",
       "      <th>MultipleLines</th>\n",
       "      <th>InternetService</th>\n",
       "      <th>OnlineSecurity</th>\n",
       "      <th>...</th>\n",
       "      <th>DeviceProtection</th>\n",
       "      <th>TechSupport</th>\n",
       "      <th>StreamingTV</th>\n",
       "      <th>StreamingMovies</th>\n",
       "      <th>Contract</th>\n",
       "      <th>PaperlessBilling</th>\n",
       "      <th>PaymentMethod</th>\n",
       "      <th>MonthlyCharges</th>\n",
       "      <th>TotalCharges</th>\n",
       "      <th>Churn</th>\n",
       "    </tr>\n",
       "  </thead>\n",
       "  <tbody>\n",
       "    <tr>\n",
       "      <th>0</th>\n",
       "      <td>7590-VHVEG</td>\n",
       "      <td>Female</td>\n",
       "      <td>0</td>\n",
       "      <td>Yes</td>\n",
       "      <td>No</td>\n",
       "      <td>1</td>\n",
       "      <td>No</td>\n",
       "      <td>No phone service</td>\n",
       "      <td>DSL</td>\n",
       "      <td>No</td>\n",
       "      <td>...</td>\n",
       "      <td>No</td>\n",
       "      <td>No</td>\n",
       "      <td>No</td>\n",
       "      <td>No</td>\n",
       "      <td>Month-to-month</td>\n",
       "      <td>Yes</td>\n",
       "      <td>Electronic check</td>\n",
       "      <td>29.85</td>\n",
       "      <td>29.85</td>\n",
       "      <td>No</td>\n",
       "    </tr>\n",
       "    <tr>\n",
       "      <th>1</th>\n",
       "      <td>5575-GNVDE</td>\n",
       "      <td>Male</td>\n",
       "      <td>0</td>\n",
       "      <td>No</td>\n",
       "      <td>No</td>\n",
       "      <td>34</td>\n",
       "      <td>Yes</td>\n",
       "      <td>No</td>\n",
       "      <td>DSL</td>\n",
       "      <td>Yes</td>\n",
       "      <td>...</td>\n",
       "      <td>Yes</td>\n",
       "      <td>No</td>\n",
       "      <td>No</td>\n",
       "      <td>No</td>\n",
       "      <td>One year</td>\n",
       "      <td>No</td>\n",
       "      <td>Mailed check</td>\n",
       "      <td>56.95</td>\n",
       "      <td>1889.5</td>\n",
       "      <td>No</td>\n",
       "    </tr>\n",
       "    <tr>\n",
       "      <th>2</th>\n",
       "      <td>3668-QPYBK</td>\n",
       "      <td>Male</td>\n",
       "      <td>0</td>\n",
       "      <td>No</td>\n",
       "      <td>No</td>\n",
       "      <td>2</td>\n",
       "      <td>Yes</td>\n",
       "      <td>No</td>\n",
       "      <td>DSL</td>\n",
       "      <td>Yes</td>\n",
       "      <td>...</td>\n",
       "      <td>No</td>\n",
       "      <td>No</td>\n",
       "      <td>No</td>\n",
       "      <td>No</td>\n",
       "      <td>Month-to-month</td>\n",
       "      <td>Yes</td>\n",
       "      <td>Mailed check</td>\n",
       "      <td>53.85</td>\n",
       "      <td>108.15</td>\n",
       "      <td>Yes</td>\n",
       "    </tr>\n",
       "    <tr>\n",
       "      <th>3</th>\n",
       "      <td>7795-CFOCW</td>\n",
       "      <td>Male</td>\n",
       "      <td>0</td>\n",
       "      <td>No</td>\n",
       "      <td>No</td>\n",
       "      <td>45</td>\n",
       "      <td>No</td>\n",
       "      <td>No phone service</td>\n",
       "      <td>DSL</td>\n",
       "      <td>Yes</td>\n",
       "      <td>...</td>\n",
       "      <td>Yes</td>\n",
       "      <td>Yes</td>\n",
       "      <td>No</td>\n",
       "      <td>No</td>\n",
       "      <td>One year</td>\n",
       "      <td>No</td>\n",
       "      <td>Bank transfer (automatic)</td>\n",
       "      <td>42.30</td>\n",
       "      <td>1840.75</td>\n",
       "      <td>No</td>\n",
       "    </tr>\n",
       "    <tr>\n",
       "      <th>4</th>\n",
       "      <td>9237-HQITU</td>\n",
       "      <td>Female</td>\n",
       "      <td>0</td>\n",
       "      <td>No</td>\n",
       "      <td>No</td>\n",
       "      <td>2</td>\n",
       "      <td>Yes</td>\n",
       "      <td>No</td>\n",
       "      <td>Fiber optic</td>\n",
       "      <td>No</td>\n",
       "      <td>...</td>\n",
       "      <td>No</td>\n",
       "      <td>No</td>\n",
       "      <td>No</td>\n",
       "      <td>No</td>\n",
       "      <td>Month-to-month</td>\n",
       "      <td>Yes</td>\n",
       "      <td>Electronic check</td>\n",
       "      <td>70.70</td>\n",
       "      <td>151.65</td>\n",
       "      <td>Yes</td>\n",
       "    </tr>\n",
       "  </tbody>\n",
       "</table>\n",
       "<p>5 rows × 21 columns</p>\n",
       "</div>"
      ],
      "text/plain": [
       "   customerID  gender  SeniorCitizen Partner Dependents  tenure PhoneService  \\\n",
       "0  7590-VHVEG  Female              0     Yes         No       1           No   \n",
       "1  5575-GNVDE    Male              0      No         No      34          Yes   \n",
       "2  3668-QPYBK    Male              0      No         No       2          Yes   \n",
       "3  7795-CFOCW    Male              0      No         No      45           No   \n",
       "4  9237-HQITU  Female              0      No         No       2          Yes   \n",
       "\n",
       "      MultipleLines InternetService OnlineSecurity  ... DeviceProtection  \\\n",
       "0  No phone service             DSL             No  ...               No   \n",
       "1                No             DSL            Yes  ...              Yes   \n",
       "2                No             DSL            Yes  ...               No   \n",
       "3  No phone service             DSL            Yes  ...              Yes   \n",
       "4                No     Fiber optic             No  ...               No   \n",
       "\n",
       "  TechSupport StreamingTV StreamingMovies        Contract PaperlessBilling  \\\n",
       "0          No          No              No  Month-to-month              Yes   \n",
       "1          No          No              No        One year               No   \n",
       "2          No          No              No  Month-to-month              Yes   \n",
       "3         Yes          No              No        One year               No   \n",
       "4          No          No              No  Month-to-month              Yes   \n",
       "\n",
       "               PaymentMethod MonthlyCharges  TotalCharges Churn  \n",
       "0           Electronic check          29.85         29.85    No  \n",
       "1               Mailed check          56.95        1889.5    No  \n",
       "2               Mailed check          53.85        108.15   Yes  \n",
       "3  Bank transfer (automatic)          42.30       1840.75    No  \n",
       "4           Electronic check          70.70        151.65   Yes  \n",
       "\n",
       "[5 rows x 21 columns]"
      ]
     },
     "execution_count": 3,
     "metadata": {},
     "output_type": "execute_result"
    }
   ],
   "source": [
    "# Load the data\n",
    "df = pd.read_csv('https://raw.githubusercontent.com/JimKing100/DS-Unit-4-Sprint-2-Neural-Networks/master/module4-Hyperparameter-Tuning/data/WA_Fn-UseC_-Telco-Customer-Churn.csv')\n",
    "print(df.shape)\n",
    "df.head()"
   ]
  },
  {
   "cell_type": "code",
   "execution_count": 4,
   "metadata": {},
   "outputs": [],
   "source": [
    "df.SeniorCitizen.replace([0, 1], [\"No\", \"Yes\"], inplace= True)\n",
    "df.TotalCharges.replace([\" \"], [\"0\"], inplace= True)\n",
    "df.TotalCharges = df.TotalCharges.astype(float)\n",
    "df.drop(\"customerID\", axis= 1, inplace= True)\n",
    "df.Churn.replace([\"Yes\", \"No\"], [1, 0], inplace= True)\n",
    "data = pd.get_dummies(df)"
   ]
  },
  {
   "cell_type": "code",
   "execution_count": 5,
   "metadata": {},
   "outputs": [
    {
     "data": {
      "text/html": [
       "<div>\n",
       "<style scoped>\n",
       "    .dataframe tbody tr th:only-of-type {\n",
       "        vertical-align: middle;\n",
       "    }\n",
       "\n",
       "    .dataframe tbody tr th {\n",
       "        vertical-align: top;\n",
       "    }\n",
       "\n",
       "    .dataframe thead th {\n",
       "        text-align: right;\n",
       "    }\n",
       "</style>\n",
       "<table border=\"1\" class=\"dataframe\">\n",
       "  <thead>\n",
       "    <tr style=\"text-align: right;\">\n",
       "      <th></th>\n",
       "      <th>tenure</th>\n",
       "      <th>MonthlyCharges</th>\n",
       "      <th>TotalCharges</th>\n",
       "      <th>Churn</th>\n",
       "      <th>gender_Female</th>\n",
       "      <th>gender_Male</th>\n",
       "      <th>SeniorCitizen_No</th>\n",
       "      <th>SeniorCitizen_Yes</th>\n",
       "      <th>Partner_No</th>\n",
       "      <th>Partner_Yes</th>\n",
       "      <th>...</th>\n",
       "      <th>StreamingMovies_Yes</th>\n",
       "      <th>Contract_Month-to-month</th>\n",
       "      <th>Contract_One year</th>\n",
       "      <th>Contract_Two year</th>\n",
       "      <th>PaperlessBilling_No</th>\n",
       "      <th>PaperlessBilling_Yes</th>\n",
       "      <th>PaymentMethod_Bank transfer (automatic)</th>\n",
       "      <th>PaymentMethod_Credit card (automatic)</th>\n",
       "      <th>PaymentMethod_Electronic check</th>\n",
       "      <th>PaymentMethod_Mailed check</th>\n",
       "    </tr>\n",
       "  </thead>\n",
       "  <tbody>\n",
       "    <tr>\n",
       "      <th>0</th>\n",
       "      <td>1</td>\n",
       "      <td>29.85</td>\n",
       "      <td>29.85</td>\n",
       "      <td>0</td>\n",
       "      <td>1</td>\n",
       "      <td>0</td>\n",
       "      <td>1</td>\n",
       "      <td>0</td>\n",
       "      <td>0</td>\n",
       "      <td>1</td>\n",
       "      <td>...</td>\n",
       "      <td>0</td>\n",
       "      <td>1</td>\n",
       "      <td>0</td>\n",
       "      <td>0</td>\n",
       "      <td>0</td>\n",
       "      <td>1</td>\n",
       "      <td>0</td>\n",
       "      <td>0</td>\n",
       "      <td>1</td>\n",
       "      <td>0</td>\n",
       "    </tr>\n",
       "    <tr>\n",
       "      <th>1</th>\n",
       "      <td>34</td>\n",
       "      <td>56.95</td>\n",
       "      <td>1889.50</td>\n",
       "      <td>0</td>\n",
       "      <td>0</td>\n",
       "      <td>1</td>\n",
       "      <td>1</td>\n",
       "      <td>0</td>\n",
       "      <td>1</td>\n",
       "      <td>0</td>\n",
       "      <td>...</td>\n",
       "      <td>0</td>\n",
       "      <td>0</td>\n",
       "      <td>1</td>\n",
       "      <td>0</td>\n",
       "      <td>1</td>\n",
       "      <td>0</td>\n",
       "      <td>0</td>\n",
       "      <td>0</td>\n",
       "      <td>0</td>\n",
       "      <td>1</td>\n",
       "    </tr>\n",
       "    <tr>\n",
       "      <th>2</th>\n",
       "      <td>2</td>\n",
       "      <td>53.85</td>\n",
       "      <td>108.15</td>\n",
       "      <td>1</td>\n",
       "      <td>0</td>\n",
       "      <td>1</td>\n",
       "      <td>1</td>\n",
       "      <td>0</td>\n",
       "      <td>1</td>\n",
       "      <td>0</td>\n",
       "      <td>...</td>\n",
       "      <td>0</td>\n",
       "      <td>1</td>\n",
       "      <td>0</td>\n",
       "      <td>0</td>\n",
       "      <td>0</td>\n",
       "      <td>1</td>\n",
       "      <td>0</td>\n",
       "      <td>0</td>\n",
       "      <td>0</td>\n",
       "      <td>1</td>\n",
       "    </tr>\n",
       "    <tr>\n",
       "      <th>3</th>\n",
       "      <td>45</td>\n",
       "      <td>42.30</td>\n",
       "      <td>1840.75</td>\n",
       "      <td>0</td>\n",
       "      <td>0</td>\n",
       "      <td>1</td>\n",
       "      <td>1</td>\n",
       "      <td>0</td>\n",
       "      <td>1</td>\n",
       "      <td>0</td>\n",
       "      <td>...</td>\n",
       "      <td>0</td>\n",
       "      <td>0</td>\n",
       "      <td>1</td>\n",
       "      <td>0</td>\n",
       "      <td>1</td>\n",
       "      <td>0</td>\n",
       "      <td>1</td>\n",
       "      <td>0</td>\n",
       "      <td>0</td>\n",
       "      <td>0</td>\n",
       "    </tr>\n",
       "    <tr>\n",
       "      <th>4</th>\n",
       "      <td>2</td>\n",
       "      <td>70.70</td>\n",
       "      <td>151.65</td>\n",
       "      <td>1</td>\n",
       "      <td>1</td>\n",
       "      <td>0</td>\n",
       "      <td>1</td>\n",
       "      <td>0</td>\n",
       "      <td>1</td>\n",
       "      <td>0</td>\n",
       "      <td>...</td>\n",
       "      <td>0</td>\n",
       "      <td>1</td>\n",
       "      <td>0</td>\n",
       "      <td>0</td>\n",
       "      <td>0</td>\n",
       "      <td>1</td>\n",
       "      <td>0</td>\n",
       "      <td>0</td>\n",
       "      <td>1</td>\n",
       "      <td>0</td>\n",
       "    </tr>\n",
       "  </tbody>\n",
       "</table>\n",
       "<p>5 rows × 47 columns</p>\n",
       "</div>"
      ],
      "text/plain": [
       "   tenure  MonthlyCharges  TotalCharges  Churn  gender_Female  gender_Male  \\\n",
       "0       1           29.85         29.85      0              1            0   \n",
       "1      34           56.95       1889.50      0              0            1   \n",
       "2       2           53.85        108.15      1              0            1   \n",
       "3      45           42.30       1840.75      0              0            1   \n",
       "4       2           70.70        151.65      1              1            0   \n",
       "\n",
       "   SeniorCitizen_No  SeniorCitizen_Yes  Partner_No  Partner_Yes  ...  \\\n",
       "0                 1                  0           0            1  ...   \n",
       "1                 1                  0           1            0  ...   \n",
       "2                 1                  0           1            0  ...   \n",
       "3                 1                  0           1            0  ...   \n",
       "4                 1                  0           1            0  ...   \n",
       "\n",
       "   StreamingMovies_Yes  Contract_Month-to-month  Contract_One year  \\\n",
       "0                    0                        1                  0   \n",
       "1                    0                        0                  1   \n",
       "2                    0                        1                  0   \n",
       "3                    0                        0                  1   \n",
       "4                    0                        1                  0   \n",
       "\n",
       "   Contract_Two year  PaperlessBilling_No  PaperlessBilling_Yes  \\\n",
       "0                  0                    0                     1   \n",
       "1                  0                    1                     0   \n",
       "2                  0                    0                     1   \n",
       "3                  0                    1                     0   \n",
       "4                  0                    0                     1   \n",
       "\n",
       "   PaymentMethod_Bank transfer (automatic)  \\\n",
       "0                                        0   \n",
       "1                                        0   \n",
       "2                                        0   \n",
       "3                                        1   \n",
       "4                                        0   \n",
       "\n",
       "   PaymentMethod_Credit card (automatic)  PaymentMethod_Electronic check  \\\n",
       "0                                      0                               1   \n",
       "1                                      0                               0   \n",
       "2                                      0                               0   \n",
       "3                                      0                               0   \n",
       "4                                      0                               1   \n",
       "\n",
       "   PaymentMethod_Mailed check  \n",
       "0                           0  \n",
       "1                           1  \n",
       "2                           1  \n",
       "3                           0  \n",
       "4                           0  \n",
       "\n",
       "[5 rows x 47 columns]"
      ]
     },
     "execution_count": 5,
     "metadata": {},
     "output_type": "execute_result"
    }
   ],
   "source": [
    "data.head()"
   ]
  },
  {
   "cell_type": "code",
   "execution_count": 6,
   "metadata": {},
   "outputs": [],
   "source": [
    "target = \"Churn\"\n",
    "X = data.drop(target, axis= 1)\n",
    "y = data.Churn"
   ]
  },
  {
   "cell_type": "code",
   "execution_count": 7,
   "metadata": {},
   "outputs": [
    {
     "data": {
      "text/plain": [
       "(5634, 46)"
      ]
     },
     "execution_count": 7,
     "metadata": {},
     "output_type": "execute_result"
    }
   ],
   "source": [
    "X_train, X_test, y_train, y_test = train_test_split(X, y, test_size= 0.2, random_state= 500)\n",
    "X_train.shape"
   ]
  },
  {
   "cell_type": "code",
   "execution_count": 8,
   "metadata": {},
   "outputs": [],
   "source": [
    "def create_model():\n",
    "    model = Sequential()\n",
    "    model.add(Dense(16, input_dim=46, activation='relu'))\n",
    "    model.add(Dropout(rate=0.2))\n",
    "    model.add(Dense(8, activation='relu'))\n",
    "    model.add(Dropout(rate=0.2))\n",
    "    model.add(Dense(1, activation='sigmoid'))\n",
    "          \n",
    "    model.compile(loss = \"binary_crossentropy\", optimizer = 'adam', metrics=['accuracy'])\n",
    "    return model"
   ]
  },
  {
   "cell_type": "code",
   "execution_count": 9,
   "metadata": {},
   "outputs": [
    {
     "name": "stderr",
     "output_type": "stream",
     "text": [
      "WARNING: Logging before flag parsing goes to stderr.\n",
      "W0205 19:23:11.744133 4386565568 deprecation.py:506] From /Users/JKMacBook/opt/anaconda3/envs/NN/lib/python3.7/site-packages/tensorflow/python/ops/init_ops.py:1251: calling VarianceScaling.__init__ (from tensorflow.python.ops.init_ops) with dtype is deprecated and will be removed in a future version.\n",
      "Instructions for updating:\n",
      "Call initializer instance with the dtype argument instead of passing it to the constructor\n",
      "W0205 19:23:12.096272 4386565568 deprecation.py:323] From /Users/JKMacBook/opt/anaconda3/envs/NN/lib/python3.7/site-packages/tensorflow/python/ops/nn_impl.py:180: add_dispatch_support.<locals>.wrapper (from tensorflow.python.ops.array_ops) is deprecated and will be removed in a future version.\n",
      "Instructions for updating:\n",
      "Use tf.where in 2.0, which has the same broadcast rule as np.where\n"
     ]
    }
   ],
   "source": [
    "model = create_model()"
   ]
  },
  {
   "cell_type": "code",
   "execution_count": 10,
   "metadata": {},
   "outputs": [
    {
     "name": "stdout",
     "output_type": "stream",
     "text": [
      "Train on 5634 samples, validate on 1409 samples\n",
      "Epoch 1/40\n",
      "5634/5634 [==============================] - 3s 610us/sample - loss: 16.6920 - acc: 0.6012 - val_loss: 1.3704 - val_acc: 0.7708\n",
      "Epoch 2/40\n",
      "5634/5634 [==============================] - 2s 351us/sample - loss: 1.7441 - acc: 0.6782 - val_loss: 0.5999 - val_acc: 0.7367\n",
      "Epoch 3/40\n",
      "5634/5634 [==============================] - 2s 381us/sample - loss: 0.7758 - acc: 0.7181 - val_loss: 0.5361 - val_acc: 0.7367\n",
      "Epoch 4/40\n",
      "5634/5634 [==============================] - 2s 353us/sample - loss: 0.6352 - acc: 0.7355 - val_loss: 0.5415 - val_acc: 0.7495\n",
      "Epoch 5/40\n",
      "5634/5634 [==============================] - 2s 334us/sample - loss: 0.5624 - acc: 0.7499 - val_loss: 0.5212 - val_acc: 0.7544\n",
      "Epoch 6/40\n",
      "5634/5634 [==============================] - 2s 384us/sample - loss: 0.5412 - acc: 0.7558 - val_loss: 0.4859 - val_acc: 0.7885\n",
      "Epoch 7/40\n",
      "5634/5634 [==============================] - 2s 336us/sample - loss: 0.5271 - acc: 0.7496 - val_loss: 0.4816 - val_acc: 0.7459\n",
      "Epoch 8/40\n",
      "5634/5634 [==============================] - 2s 338us/sample - loss: 0.5146 - acc: 0.7556 - val_loss: 0.4891 - val_acc: 0.7594\n",
      "Epoch 9/40\n",
      "5634/5634 [==============================] - 2s 382us/sample - loss: 0.5017 - acc: 0.7645 - val_loss: 0.4752 - val_acc: 0.7913\n",
      "Epoch 10/40\n",
      "5634/5634 [==============================] - 2s 364us/sample - loss: 0.4874 - acc: 0.7753 - val_loss: 0.4454 - val_acc: 0.8020\n",
      "Epoch 11/40\n",
      "5634/5634 [==============================] - 2s 361us/sample - loss: 0.4929 - acc: 0.7751 - val_loss: 0.4884 - val_acc: 0.7857\n",
      "Epoch 12/40\n",
      "5634/5634 [==============================] - 2s 352us/sample - loss: 0.4908 - acc: 0.7737 - val_loss: 0.4567 - val_acc: 0.8027\n",
      "Epoch 13/40\n",
      "5634/5634 [==============================] - 2s 340us/sample - loss: 0.4878 - acc: 0.7703 - val_loss: 0.4744 - val_acc: 0.7921\n",
      "Epoch 14/40\n",
      "5634/5634 [==============================] - 2s 345us/sample - loss: 0.4855 - acc: 0.7730 - val_loss: 0.4297 - val_acc: 0.8119\n",
      "Epoch 15/40\n",
      "5634/5634 [==============================] - 2s 355us/sample - loss: 0.4863 - acc: 0.7707 - val_loss: 0.4408 - val_acc: 0.7999\n",
      "Epoch 16/40\n",
      "5634/5634 [==============================] - 2s 371us/sample - loss: 0.4818 - acc: 0.7774 - val_loss: 0.4610 - val_acc: 0.8020\n",
      "Epoch 17/40\n",
      "5634/5634 [==============================] - 2s 391us/sample - loss: 0.4821 - acc: 0.7716 - val_loss: 0.4473 - val_acc: 0.8098\n",
      "Epoch 18/40\n",
      "5634/5634 [==============================] - 2s 419us/sample - loss: 0.4858 - acc: 0.7772 - val_loss: 0.4401 - val_acc: 0.8070\n",
      "Epoch 19/40\n",
      "5634/5634 [==============================] - 3s 544us/sample - loss: 0.4805 - acc: 0.7714 - val_loss: 0.4686 - val_acc: 0.7708\n",
      "Epoch 20/40\n",
      "5634/5634 [==============================] - 4s 622us/sample - loss: 0.4847 - acc: 0.7756 - val_loss: 0.4527 - val_acc: 0.7999\n",
      "Epoch 21/40\n",
      "5634/5634 [==============================] - 3s 445us/sample - loss: 0.4813 - acc: 0.7741 - val_loss: 0.4479 - val_acc: 0.8048\n",
      "Epoch 22/40\n",
      "5634/5634 [==============================] - 2s 402us/sample - loss: 0.4814 - acc: 0.7762 - val_loss: 0.4638 - val_acc: 0.7935\n",
      "Epoch 23/40\n",
      "5634/5634 [==============================] - 2s 407us/sample - loss: 0.4817 - acc: 0.7717 - val_loss: 0.4373 - val_acc: 0.8027\n",
      "Epoch 24/40\n",
      "5634/5634 [==============================] - 2s 367us/sample - loss: 0.4766 - acc: 0.7769 - val_loss: 0.4289 - val_acc: 0.8091\n",
      "Epoch 25/40\n",
      "5634/5634 [==============================] - 3s 564us/sample - loss: 0.4786 - acc: 0.7774 - val_loss: 0.4524 - val_acc: 0.7956\n",
      "Epoch 26/40\n",
      "5634/5634 [==============================] - 3s 485us/sample - loss: 0.4762 - acc: 0.7783 - val_loss: 0.4547 - val_acc: 0.8204\n",
      "Epoch 27/40\n",
      "5634/5634 [==============================] - 2s 409us/sample - loss: 0.4751 - acc: 0.7803 - val_loss: 0.4417 - val_acc: 0.7885\n",
      "Epoch 28/40\n",
      "5634/5634 [==============================] - 2s 368us/sample - loss: 0.4704 - acc: 0.7810 - val_loss: 0.4599 - val_acc: 0.7984\n",
      "Epoch 29/40\n",
      "5634/5634 [==============================] - 2s 373us/sample - loss: 0.4735 - acc: 0.7764 - val_loss: 0.4656 - val_acc: 0.7956\n",
      "Epoch 30/40\n",
      "5634/5634 [==============================] - 2s 381us/sample - loss: 0.4759 - acc: 0.7780 - val_loss: 0.4536 - val_acc: 0.8084\n",
      "Epoch 31/40\n",
      "5634/5634 [==============================] - 2s 407us/sample - loss: 0.4744 - acc: 0.7858 - val_loss: 0.4191 - val_acc: 0.8169\n",
      "Epoch 32/40\n",
      "5634/5634 [==============================] - 3s 485us/sample - loss: 0.4768 - acc: 0.7760 - val_loss: 0.4302 - val_acc: 0.8190\n",
      "Epoch 33/40\n",
      "5634/5634 [==============================] - 2s 418us/sample - loss: 0.4715 - acc: 0.7771 - val_loss: 0.4409 - val_acc: 0.8020\n",
      "Epoch 34/40\n",
      "5634/5634 [==============================] - 2s 372us/sample - loss: 0.4744 - acc: 0.7783 - val_loss: 0.4299 - val_acc: 0.8112\n",
      "Epoch 35/40\n",
      "5634/5634 [==============================] - 3s 554us/sample - loss: 0.4702 - acc: 0.7804 - val_loss: 0.4249 - val_acc: 0.8077\n",
      "Epoch 36/40\n",
      "5634/5634 [==============================] - 3s 586us/sample - loss: 0.4790 - acc: 0.7742 - val_loss: 0.4388 - val_acc: 0.7949\n",
      "Epoch 37/40\n",
      "5634/5634 [==============================] - 3s 515us/sample - loss: 0.4693 - acc: 0.7781 - val_loss: 0.4203 - val_acc: 0.8098\n",
      "Epoch 38/40\n",
      "5634/5634 [==============================] - 2s 354us/sample - loss: 0.4717 - acc: 0.7764 - val_loss: 0.4296 - val_acc: 0.8077\n",
      "Epoch 39/40\n",
      "5634/5634 [==============================] - 2s 362us/sample - loss: 0.4725 - acc: 0.7764 - val_loss: 0.4391 - val_acc: 0.7942\n",
      "Epoch 40/40\n",
      "5634/5634 [==============================] - 3s 470us/sample - loss: 0.4690 - acc: 0.7822 - val_loss: 0.4210 - val_acc: 0.8105\n"
     ]
    }
   ],
   "source": [
    "history = model.fit(X_train, y_train, validation_data=(X_test, y_test), epochs=20, batch_size=10)"
   ]
  },
  {
   "cell_type": "code",
   "execution_count": 11,
   "metadata": {},
   "outputs": [
    {
     "data": {
      "image/png": "[encoded data removed]",
      "text/plain": [
       "<Figure size 432x288 with 1 Axes>"
      ]
     },
     "metadata": {
      "needs_background": "light"
     },
     "output_type": "display_data"
    }
   ],
   "source": [
    "plt.plot(history.history['acc'])\n",
    "plt.plot(history.history['val_acc'])\n",
    "plt.title('model accuracy')\n",
    "plt.ylabel('accuracy')\n",
    "plt.xlabel('epoch')\n",
    "plt.legend(['train', 'test'], loc='upper left')\n",
    "plt.show()"
   ]
  },
  {
   "cell_type": "markdown",
   "metadata": {},
   "source": [
    "### Hyperparameter Tuning - Batch Size"
   ]
  },
  {
   "cell_type": "code",
   "execution_count": 12,
   "metadata": {},
   "outputs": [],
   "source": [
    "def create_model():\n",
    "    model = Sequential()\n",
    "    model.add(Dense(16, input_dim=46, activation='relu'))\n",
    "    model.add(Dropout(rate=0.2))\n",
    "    model.add(Dense(8, activation='relu'))\n",
    "    model.add(Dropout(rate=0.2))\n",
    "    model.add(Dense(1, activation='sigmoid'))\n",
    "          \n",
    "    model.compile(loss = \"binary_crossentropy\", optimizer = 'adam', metrics=['accuracy'])\n",
    "    return model"
   ]
  },
  {
   "cell_type": "code",
   "execution_count": 13,
   "metadata": {},
   "outputs": [],
   "source": [
    "model = KerasClassifier(build_fn=create_model, verbose=0)"
   ]
  },
  {
   "cell_type": "code",
   "execution_count": 14,
   "metadata": {},
   "outputs": [],
   "source": [
    "param_grid = {'batch_size': [10, 20, 40, 60, 80, 100],\n",
    "              'epochs': [20]}"
   ]
  },
  {
   "cell_type": "code",
   "execution_count": 16,
   "metadata": {
    "scrolled": true
   },
   "outputs": [
    {
     "name": "stderr",
     "output_type": "stream",
     "text": [
      "/Users/JKMacBook/opt/anaconda3/envs/NN/lib/python3.7/site-packages/sklearn/model_selection/_split.py:1978: FutureWarning: The default value of cv will change from 3 to 5 in version 0.22. Specify it explicitly to silence this warning.\n",
      "  warnings.warn(CV_WARNING, FutureWarning)\n"
     ]
    }
   ],
   "source": [
    "grid = GridSearchCV(estimator=model, param_grid=param_grid, n_jobs=1)\n",
    "grid_result = grid.fit(X_train, y_train)"
   ]
  },
  {
   "cell_type": "code",
   "execution_count": 17,
   "metadata": {},
   "outputs": [
    {
     "name": "stdout",
     "output_type": "stream",
     "text": [
      "Best: 0.7536386251449585 using {'batch_size': 20, 'epochs': 20}\n",
      "Means: 0.7344692945480347, Stdev: 0.010687999269161816 with: {'batch_size': 10, 'epochs': 20}\n",
      "Means: 0.7536386251449585, Stdev: 0.012987407339908778 with: {'batch_size': 20, 'epochs': 20}\n",
      "Means: 0.7461838920911154, Stdev: 0.023382061605285602 with: {'batch_size': 40, 'epochs': 20}\n",
      "Means: 0.7515086929003397, Stdev: 0.03129229744570339 with: {'batch_size': 60, 'epochs': 20}\n",
      "Means: 0.7344692945480347, Stdev: 0.010687999269161816 with: {'batch_size': 80, 'epochs': 20}\n",
      "Means: 0.7426340182622274, Stdev: 0.019590364395717194 with: {'batch_size': 100, 'epochs': 20}\n"
     ]
    }
   ],
   "source": [
    "print(f\"Best: {grid_result.best_score_} using {grid_result.best_params_}\")\n",
    "means = grid_result.cv_results_['mean_test_score']\n",
    "stds = grid_result.cv_results_['std_test_score']\n",
    "params = grid_result.cv_results_['params']\n",
    "for mean, stdev, param in zip(means, stds, params):\n",
    "    print(f\"Means: {mean}, Stdev: {stdev} with: {param}\")"
   ]
  },
  {
   "cell_type": "markdown",
   "metadata": {},
   "source": [
    "### Hyperparameter Tuning - Epochs"
   ]
  },
  {
   "cell_type": "code",
   "execution_count": 19,
   "metadata": {},
   "outputs": [],
   "source": [
    "# define the grid search parameters\n",
    "#param_grid = {'batch_size': [20],\n",
    "#              'epochs': [20, 40, 60, 100]}"
   ]
  },
  {
   "cell_type": "code",
   "execution_count": 20,
   "metadata": {},
   "outputs": [],
   "source": [
    "#grid = GridSearchCV(estimator=model, param_grid=param_grid, n_jobs=1)\n",
    "#grid_result = grid.fit(X_train, y_train)"
   ]
  },
  {
   "cell_type": "code",
   "execution_count": 21,
   "metadata": {},
   "outputs": [
    {
     "name": "stdout",
     "output_type": "stream",
     "text": [
      "Best: 0.7673056523005167 using {'batch_size': 20, 'epochs': 100}\n",
      "Means: 0.7465388576189677, Stdev: 0.006433993465673164 with: {'batch_size': 20, 'epochs': 20}\n",
      "Means: 0.7596734166145325, Stdev: 0.028557187198789982 with: {'batch_size': 20, 'epochs': 40}\n",
      "Means: 0.7570110162099203, Stdev: 0.02703387771219089 with: {'batch_size': 20, 'epochs': 60}\n",
      "Means: 0.7673056523005167, Stdev: 0.035587377450326814 with: {'batch_size': 20, 'epochs': 100}\n"
     ]
    }
   ],
   "source": [
    "#print(f\"Best: {grid_result.best_score_} using {grid_result.best_params_}\")\n",
    "#means = grid_result.cv_results_['mean_test_score']\n",
    "#stds = grid_result.cv_results_['std_test_score']\n",
    "#params = grid_result.cv_results_['params']\n",
    "#for mean, stdev, param in zip(means, stds, params):\n",
    "#    print(f\"Means: {mean}, Stdev: {stdev} with: {param}\")\n",
    "# Result = epochs 100"
   ]
  },
  {
   "cell_type": "markdown",
   "metadata": {},
   "source": [
    "### Hyperparameter Tuning - Optimizer"
   ]
  },
  {
   "cell_type": "code",
   "execution_count": 53,
   "metadata": {},
   "outputs": [],
   "source": [
    "def create_model(optimizer='adam'):\n",
    "    model = Sequential()\n",
    "    model.add(Dense(16, input_dim=46, activation='relu'))\n",
    "    model.add(Dropout(rate=0.2))\n",
    "    model.add(Dense(8, activation='relu'))\n",
    "    model.add(Dropout(rate=0.2))\n",
    "    model.add(Dense(1, activation='sigmoid'))\n",
    "          \n",
    "    model.compile(loss = \"binary_crossentropy\", optimizer = optimizer, metrics=['accuracy'])\n",
    "    return model"
   ]
  },
  {
   "cell_type": "code",
   "execution_count": 54,
   "metadata": {},
   "outputs": [],
   "source": [
    "model = KerasClassifier(build_fn=create_model, epochs=20, batch_size=100, verbose=0)"
   ]
  },
  {
   "cell_type": "code",
   "execution_count": 55,
   "metadata": {},
   "outputs": [],
   "source": [
    "# define the grid search parameters\n",
    "optimizer = ['SGD', 'RMSprop', 'Adagrad', 'Adadelta', 'Adam', 'Adamax', 'Nadam']\n",
    "param_grid = dict(optimizer=optimizer)"
   ]
  },
  {
   "cell_type": "code",
   "execution_count": 56,
   "metadata": {},
   "outputs": [],
   "source": [
    "grid = GridSearchCV(estimator=model, param_grid=param_grid, n_jobs=1)\n",
    "grid_result = grid.fit(X_train, y_train)"
   ]
  },
  {
   "cell_type": "code",
   "execution_count": 57,
   "metadata": {},
   "outputs": [
    {
     "name": "stdout",
     "output_type": "stream",
     "text": [
      "Best: 0.7539936105410258 using {'optimizer': 'RMSprop'}\n",
      "Means: 0.7433439890543619, Stdev: 0.02048957787615195 with: {'optimizer': 'SGD'}\n",
      "Means: 0.7539936105410258, Stdev: 0.02561819970579587 with: {'optimizer': 'RMSprop'}\n",
      "Means: 0.7472488482793173, Stdev: 0.00553940684964823 with: {'optimizer': 'Adagrad'}\n",
      "Means: 0.5740149219830831, Stdev: 0.22235331763003147 with: {'optimizer': 'Adadelta'}\n",
      "Means: 0.7509762247403463, Stdev: 0.007496882352993639 with: {'optimizer': 'Adam'}\n",
      "Means: 0.6970181067784628, Stdev: 0.07286372818111297 with: {'optimizer': 'Adamax'}\n",
      "Means: 0.7435214718182882, Stdev: 0.0022310723286384304 with: {'optimizer': 'Nadam'}\n"
     ]
    }
   ],
   "source": [
    "print(f\"Best: {grid_result.best_score_} using {grid_result.best_params_}\")\n",
    "means = grid_result.cv_results_['mean_test_score']\n",
    "stds = grid_result.cv_results_['std_test_score']\n",
    "params = grid_result.cv_results_['params']\n",
    "for mean, stdev, param in zip(means, stds, params):\n",
    "    print(f\"Means: {mean}, Stdev: {stdev} with: {param}\")"
   ]
  },
  {
   "cell_type": "markdown",
   "metadata": {},
   "source": [
    "### Hyperparameter Tuning - Learning Rate"
   ]
  },
  {
   "cell_type": "code",
   "execution_count": 52,
   "metadata": {},
   "outputs": [],
   "source": [
    "from tensorflow.keras.optimizers import RMSprop\n",
    "\n",
    "def create_model(learn_rate=0.01):\n",
    "    model = Sequential()\n",
    "    model.add(Dense(16, input_dim=46, activation='relu'))\n",
    "    model.add(Dropout(rate=0.2))\n",
    "    model.add(Dense(8, activation='relu'))\n",
    "    model.add(Dropout(rate=0.2))\n",
    "    model.add(Dense(1, activation='sigmoid'))\n",
    "    \n",
    "    optimizer = RMSprop(lr=learn_rate)\n",
    "    model.compile(loss = \"binary_crossentropy\", optimizer = optimizer, metrics=['accuracy'])\n",
    "    return model"
   ]
  },
  {
   "cell_type": "code",
   "execution_count": 53,
   "metadata": {},
   "outputs": [],
   "source": [
    "model = KerasClassifier(build_fn=create_model, epochs=20, batch_size=100, verbose=0)"
   ]
  },
  {
   "cell_type": "code",
   "execution_count": 54,
   "metadata": {},
   "outputs": [],
   "source": [
    "# define the grid search parameters\n",
    "learn_rate = [0.001, 0.01, 0.1, 0.2, 0.3]\n",
    "param_grid = dict(learn_rate=learn_rate)"
   ]
  },
  {
   "cell_type": "code",
   "execution_count": 55,
   "metadata": {},
   "outputs": [],
   "source": [
    "grid = GridSearchCV(estimator=model, param_grid=param_grid, n_jobs=1)\n",
    "grid_result = grid.fit(X_train, y_train)"
   ]
  },
  {
   "cell_type": "code",
   "execution_count": 56,
   "metadata": {},
   "outputs": [
    {
     "name": "stdout",
     "output_type": "stream",
     "text": [
      "Best: 0.7603833874066671 using {'learn_rate': 0.01}\n",
      "Means: 0.7525736490885416, Stdev: 0.02461473663803474 with: {'learn_rate': 0.001}\n",
      "Means: 0.7603833874066671, Stdev: 0.016086475875872794 with: {'learn_rate': 0.01}\n",
      "Means: 0.7344692945480347, Stdev: 0.010687999269161816 with: {'learn_rate': 0.1}\n",
      "Means: 0.7344692945480347, Stdev: 0.010687999269161816 with: {'learn_rate': 0.2}\n",
      "Means: 0.7344692945480347, Stdev: 0.010687999269161816 with: {'learn_rate': 0.3}\n"
     ]
    }
   ],
   "source": [
    "print(f\"Best: {grid_result.best_score_} using {grid_result.best_params_}\")\n",
    "means = grid_result.cv_results_['mean_test_score']\n",
    "stds = grid_result.cv_results_['std_test_score']\n",
    "params = grid_result.cv_results_['params']\n",
    "for mean, stdev, param in zip(means, stds, params):\n",
    "    print(f\"Means: {mean}, Stdev: {stdev} with: {param}\")"
   ]
  },
  {
   "cell_type": "markdown",
   "metadata": {},
   "source": [
    "### Hyperparameter Tuning - Activation Function"
   ]
  },
  {
   "cell_type": "code",
   "execution_count": 57,
   "metadata": {},
   "outputs": [],
   "source": [
    "def create_model(activation='relu'):\n",
    "    model = Sequential()\n",
    "    model.add(Dense(16, input_dim=46, activation=activation))\n",
    "    model.add(Dropout(rate=0.2))\n",
    "    model.add(Dense(8, activation=activation))\n",
    "    model.add(Dropout(rate=0.2))\n",
    "    model.add(Dense(1, activation='sigmoid'))\n",
    "    \n",
    "    optimizer = RMSprop(lr=.01)\n",
    "    model.compile(loss = \"binary_crossentropy\", optimizer = optimizer, metrics=['accuracy'])\n",
    "    return model"
   ]
  },
  {
   "cell_type": "code",
   "execution_count": 58,
   "metadata": {},
   "outputs": [],
   "source": [
    "model = KerasClassifier(build_fn=create_model, epochs=20, batch_size=100, verbose=0)"
   ]
  },
  {
   "cell_type": "code",
   "execution_count": 59,
   "metadata": {},
   "outputs": [],
   "source": [
    "activation = ['softmax', 'softplus', 'softsign', 'relu', 'tanh', 'sigmoid', 'hard_sigmoid', 'linear']\n",
    "param_grid = dict(activation=activation)"
   ]
  },
  {
   "cell_type": "code",
   "execution_count": 60,
   "metadata": {},
   "outputs": [],
   "source": [
    "grid = GridSearchCV(estimator=model, param_grid=param_grid, n_jobs=1)\n",
    "grid_result = grid.fit(X_train, y_train)"
   ]
  },
  {
   "cell_type": "code",
   "execution_count": 61,
   "metadata": {},
   "outputs": [
    {
     "name": "stdout",
     "output_type": "stream",
     "text": [
      "Best: 0.7815051476160685 using {'activation': 'softsign'}\n",
      "Means: 0.7642882466316223, Stdev: 0.01598824000318432 with: {'activation': 'softmax'}\n",
      "Means: 0.7742279171943665, Stdev: 0.0037652308585692292 with: {'activation': 'softplus'}\n",
      "Means: 0.7815051476160685, Stdev: 0.010346532812522135 with: {'activation': 'softsign'}\n",
      "Means: 0.7149449984232584, Stdev: 0.07279799400170267 with: {'activation': 'relu'}\n",
      "Means: 0.7786652445793152, Stdev: 0.01435617318618419 with: {'activation': 'tanh'}\n",
      "Means: 0.7726304531097412, Stdev: 0.006521522482279424 with: {'activation': 'sigmoid'}\n",
      "Means: 0.7468938628832499, Stdev: 0.0243017314311808 with: {'activation': 'hard_sigmoid'}\n",
      "Means: 0.6052538355191549, Stdev: 0.13146025135901448 with: {'activation': 'linear'}\n"
     ]
    }
   ],
   "source": [
    "print(f\"Best: {grid_result.best_score_} using {grid_result.best_params_}\")\n",
    "means = grid_result.cv_results_['mean_test_score']\n",
    "stds = grid_result.cv_results_['std_test_score']\n",
    "params = grid_result.cv_results_['params']\n",
    "for mean, stdev, param in zip(means, stds, params):\n",
    "    print(f\"Means: {mean}, Stdev: {stdev} with: {param}\")"
   ]
  },
  {
   "cell_type": "markdown",
   "metadata": {},
   "source": [
    "### Hyperparameter Tuning - Network Weight Initialization"
   ]
  },
  {
   "cell_type": "code",
   "execution_count": 62,
   "metadata": {},
   "outputs": [],
   "source": [
    "def create_model(init_mode='uniform'):\n",
    "    model = Sequential()\n",
    "    model.add(Dense(16, input_dim=46, kernel_initializer=init_mode, activation='softsign'))\n",
    "    model.add(Dropout(rate=0.2))\n",
    "    model.add(Dense(8, kernel_initializer=init_mode, activation='softsign'))\n",
    "    model.add(Dropout(rate=0.2))\n",
    "    model.add(Dense(1, kernel_initializer=init_mode, activation='sigmoid'))\n",
    "    \n",
    "    optimizer = RMSprop(lr=0.01)\n",
    "    model.compile(loss = \"binary_crossentropy\", optimizer = optimizer, metrics=['accuracy'])\n",
    "    return model"
   ]
  },
  {
   "cell_type": "code",
   "execution_count": 63,
   "metadata": {},
   "outputs": [],
   "source": [
    "model = KerasClassifier(build_fn=create_model, epochs=20, batch_size=100, verbose=0)"
   ]
  },
  {
   "cell_type": "code",
   "execution_count": 64,
   "metadata": {},
   "outputs": [],
   "source": [
    "init_mode = ['uniform', 'lecun_uniform', 'normal', 'zero', 'glorot_normal', 'glorot_uniform', 'he_normal', 'he_uniform']\n",
    "param_grid = dict(init_mode=init_mode)"
   ]
  },
  {
   "cell_type": "code",
   "execution_count": 65,
   "metadata": {},
   "outputs": [
    {
     "name": "stderr",
     "output_type": "stream",
     "text": [
      "W0206 07:15:04.679069 4386565568 deprecation.py:506] From /Users/JKMacBook/opt/anaconda3/envs/NN/lib/python3.7/site-packages/tensorflow/python/keras/initializers.py:119: calling RandomUniform.__init__ (from tensorflow.python.ops.init_ops) with dtype is deprecated and will be removed in a future version.\n",
      "Instructions for updating:\n",
      "Call initializer instance with the dtype argument instead of passing it to the constructor\n",
      "W0206 07:17:22.181153 4386565568 deprecation.py:506] From /Users/JKMacBook/opt/anaconda3/envs/NN/lib/python3.7/site-packages/tensorflow/python/keras/initializers.py:143: calling RandomNormal.__init__ (from tensorflow.python.ops.init_ops) with dtype is deprecated and will be removed in a future version.\n",
      "Instructions for updating:\n",
      "Call initializer instance with the dtype argument instead of passing it to the constructor\n"
     ]
    }
   ],
   "source": [
    "grid = GridSearchCV(estimator=model, param_grid=param_grid, n_jobs=1)\n",
    "grid_result = grid.fit(X_train, y_train)"
   ]
  },
  {
   "cell_type": "code",
   "execution_count": 66,
   "metadata": {},
   "outputs": [
    {
     "name": "stdout",
     "output_type": "stream",
     "text": [
      "Best: 0.7884274125099182 using {'init_mode': 'normal'}\n",
      "Means: 0.7829250892003378, Stdev: 0.013819441061784949 with: {'init_mode': 'uniform'}\n",
      "Means: 0.7843450506528219, Stdev: 0.012173518830483768 with: {'init_mode': 'lecun_uniform'}\n",
      "Means: 0.7884274125099182, Stdev: 0.00893481453768916 with: {'init_mode': 'normal'}\n",
      "Means: 0.7344692945480347, Stdev: 0.010687999269161816 with: {'init_mode': 'zero'}\n",
      "Means: 0.7815051476160685, Stdev: 0.011554823269600022 with: {'init_mode': 'glorot_normal'}\n",
      "Means: 0.780795176823934, Stdev: 0.013515183166222652 with: {'init_mode': 'glorot_uniform'}\n",
      "Means: 0.7799077033996582, Stdev: 0.010872117428514466 with: {'init_mode': 'he_normal'}\n",
      "Means: 0.7770678003629049, Stdev: 0.010732119489764408 with: {'init_mode': 'he_uniform'}\n"
     ]
    }
   ],
   "source": [
    "print(f\"Best: {grid_result.best_score_} using {grid_result.best_params_}\")\n",
    "means = grid_result.cv_results_['mean_test_score']\n",
    "stds = grid_result.cv_results_['std_test_score']\n",
    "params = grid_result.cv_results_['params']\n",
    "for mean, stdev, param in zip(means, stds, params):\n",
    "    print(f\"Means: {mean}, Stdev: {stdev} with: {param}\")"
   ]
  },
  {
   "cell_type": "markdown",
   "metadata": {},
   "source": [
    "### Hyperparameter Tuning - Dropout Regularization"
   ]
  },
  {
   "cell_type": "code",
   "execution_count": 39,
   "metadata": {},
   "outputs": [],
   "source": [
    "from tensorflow.keras.optimizers import RMSprop\n",
    "from tensorflow.keras.constraints import MaxNorm\n",
    "\n",
    "def create_model(dropout_rate=0.0, weight_constraint=0):\n",
    "    model = Sequential()\n",
    "    model.add(Dense(16, input_dim=46, kernel_initializer='normal', kernel_constraint=MaxNorm(weight_constraint), activation='softsign'))\n",
    "    model.add(Dropout(dropout_rate))\n",
    "    model.add(Dense(8, kernel_initializer='normal', kernel_constraint=MaxNorm(weight_constraint), activation='softsign'))\n",
    "    model.add(Dropout(dropout_rate))\n",
    "    model.add(Dense(1, kernel_initializer='normal', kernel_constraint=MaxNorm(weight_constraint), activation='sigmoid'))\n",
    "    \n",
    "    optimizer = RMSprop(lr=0.01)\n",
    "    model.compile(loss = \"binary_crossentropy\", optimizer = optimizer, metrics=['accuracy'])\n",
    "    return model"
   ]
  },
  {
   "cell_type": "code",
   "execution_count": 40,
   "metadata": {},
   "outputs": [],
   "source": [
    "model = KerasClassifier(build_fn=create_model, epochs=20, batch_size=100, verbose=0)"
   ]
  },
  {
   "cell_type": "code",
   "execution_count": 41,
   "metadata": {},
   "outputs": [],
   "source": [
    "weight_constraint = [1, 2, 3, 4, 5]\n",
    "dropout_rate = [0.0, 0.1, 0.2, 0.3, 0.4, 0.5]\n",
    "param_grid = dict(dropout_rate=dropout_rate, weight_constraint=weight_constraint)"
   ]
  },
  {
   "cell_type": "code",
   "execution_count": 42,
   "metadata": {},
   "outputs": [],
   "source": [
    "grid = GridSearchCV(estimator=model, param_grid=param_grid, n_jobs=1)\n",
    "grid_result = grid.fit(X_train, y_train)"
   ]
  },
  {
   "cell_type": "code",
   "execution_count": 43,
   "metadata": {},
   "outputs": [
    {
     "name": "stdout",
     "output_type": "stream",
     "text": [
      "Best: 0.7854100068410238 using {'dropout_rate': 0.0, 'weight_constraint': 5}\n",
      "Means: 0.7736954291661581, Stdev: 0.01067622988283711 with: {'dropout_rate': 0.0, 'weight_constraint': 1}\n",
      "Means: 0.7816826502482096, Stdev: 0.00742934521217081 with: {'dropout_rate': 0.0, 'weight_constraint': 2}\n",
      "Means: 0.7816826303799947, Stdev: 0.013308486288835216 with: {'dropout_rate': 0.0, 'weight_constraint': 3}\n",
      "Means: 0.7829250892003378, Stdev: 0.013969089277967311 with: {'dropout_rate': 0.0, 'weight_constraint': 4}\n",
      "Means: 0.7854100068410238, Stdev: 0.016244318904091958 with: {'dropout_rate': 0.0, 'weight_constraint': 5}\n",
      "Means: 0.7758253415425619, Stdev: 0.01508593620630785 with: {'dropout_rate': 0.1, 'weight_constraint': 1}\n",
      "Means: 0.7763578494389852, Stdev: 0.011954177904581961 with: {'dropout_rate': 0.1, 'weight_constraint': 2}\n",
      "Means: 0.7770678003629049, Stdev: 0.007732693981766209 with: {'dropout_rate': 0.1, 'weight_constraint': 3}\n",
      "Means: 0.78328009446462, Stdev: 0.006749452900407688 with: {'dropout_rate': 0.1, 'weight_constraint': 4}\n",
      "Means: 0.777245302995046, Stdev: 0.010190071222362557 with: {'dropout_rate': 0.1, 'weight_constraint': 5}\n",
      "Means: 0.7671281695365906, Stdev: 0.009783113232124153 with: {'dropout_rate': 0.2, 'weight_constraint': 1}\n",
      "Means: 0.777245302995046, Stdev: 0.013487207207585554 with: {'dropout_rate': 0.2, 'weight_constraint': 2}\n",
      "Means: 0.7774227857589722, Stdev: 0.015042003631629532 with: {'dropout_rate': 0.2, 'weight_constraint': 3}\n",
      "Means: 0.7767127950986227, Stdev: 0.01284104118371206 with: {'dropout_rate': 0.2, 'weight_constraint': 4}\n",
      "Means: 0.7847000360488892, Stdev: 0.01379207895187391 with: {'dropout_rate': 0.2, 'weight_constraint': 5}\n",
      "Means: 0.7738729119300842, Stdev: 0.011741453389344271 with: {'dropout_rate': 0.3, 'weight_constraint': 1}\n",
      "Means: 0.7729854583740234, Stdev: 0.009955503968284736 with: {'dropout_rate': 0.3, 'weight_constraint': 2}\n",
      "Means: 0.7800852060317993, Stdev: 0.01219680489863134 with: {'dropout_rate': 0.3, 'weight_constraint': 3}\n",
      "Means: 0.782037615776062, Stdev: 0.0134731721866209 with: {'dropout_rate': 0.3, 'weight_constraint': 4}\n",
      "Means: 0.7797302007675171, Stdev: 0.014454563396768162 with: {'dropout_rate': 0.3, 'weight_constraint': 5}\n",
      "Means: 0.7786652445793152, Stdev: 0.014143925388064051 with: {'dropout_rate': 0.4, 'weight_constraint': 1}\n",
      "Means: 0.7752928733825684, Stdev: 0.01238138023268955 with: {'dropout_rate': 0.4, 'weight_constraint': 2}\n",
      "Means: 0.7804401914278666, Stdev: 0.01333212443366741 with: {'dropout_rate': 0.4, 'weight_constraint': 3}\n",
      "Means: 0.7829251090685526, Stdev: 0.014197282457283158 with: {'dropout_rate': 0.4, 'weight_constraint': 4}\n",
      "Means: 0.7854100068410238, Stdev: 0.010461584209473185 with: {'dropout_rate': 0.4, 'weight_constraint': 5}\n",
      "Means: 0.7719204823176066, Stdev: 0.011306789728597198 with: {'dropout_rate': 0.5, 'weight_constraint': 1}\n",
      "Means: 0.7790202498435974, Stdev: 0.013519859195536318 with: {'dropout_rate': 0.5, 'weight_constraint': 2}\n",
      "Means: 0.7768903175989786, Stdev: 0.01339343544365115 with: {'dropout_rate': 0.5, 'weight_constraint': 3}\n",
      "Means: 0.7813276648521423, Stdev: 0.013416921033357286 with: {'dropout_rate': 0.5, 'weight_constraint': 4}\n",
      "Means: 0.7818601330121359, Stdev: 0.014565304925820359 with: {'dropout_rate': 0.5, 'weight_constraint': 5}\n"
     ]
    }
   ],
   "source": [
    "print(f\"Best: {grid_result.best_score_} using {grid_result.best_params_}\")\n",
    "means = grid_result.cv_results_['mean_test_score']\n",
    "stds = grid_result.cv_results_['std_test_score']\n",
    "params = grid_result.cv_results_['params']\n",
    "for mean, stdev, param in zip(means, stds, params):\n",
    "    print(f\"Means: {mean}, Stdev: {stdev} with: {param}\")"
   ]
  },
  {
   "cell_type": "markdown",
   "metadata": {},
   "source": [
    "### Hyperparameter Tuning - # Neurons in Hidden Layer"
   ]
  },
  {
   "cell_type": "code",
   "execution_count": 44,
   "metadata": {},
   "outputs": [],
   "source": [
    "def create_model(neurons=1):\n",
    "    model = Sequential()\n",
    "    model.add(Dense(neurons, input_dim=46, kernel_initializer='normal', kernel_constraint=MaxNorm(5), activation='softsign'))\n",
    "    model.add(Dropout(rate=0.0))\n",
    "    model.add(Dense(neurons, kernel_initializer='normal', kernel_constraint=MaxNorm(5), activation='softsign'))\n",
    "    model.add(Dropout(rate=0.0))\n",
    "    model.add(Dense(1, kernel_initializer='normal', kernel_constraint=MaxNorm(4), activation='sigmoid'))\n",
    "    \n",
    "    optimizer = RMSprop(lr=0.01)\n",
    "    model.compile(loss = \"binary_crossentropy\", optimizer = optimizer, metrics=['accuracy'])\n",
    "    return model"
   ]
  },
  {
   "cell_type": "code",
   "execution_count": 45,
   "metadata": {},
   "outputs": [],
   "source": [
    "model = KerasClassifier(build_fn=create_model, epochs=20, batch_size=100, verbose=0)"
   ]
  },
  {
   "cell_type": "code",
   "execution_count": 46,
   "metadata": {},
   "outputs": [],
   "source": [
    "neurons = [1, 5, 10, 15, 20, 25, 30]\n",
    "param_grid = dict(neurons=neurons)"
   ]
  },
  {
   "cell_type": "code",
   "execution_count": 47,
   "metadata": {},
   "outputs": [],
   "source": [
    "grid = GridSearchCV(estimator=model, param_grid=param_grid, n_jobs=1)\n",
    "grid_result = grid.fit(X_train, y_train)"
   ]
  },
  {
   "cell_type": "code",
   "execution_count": 48,
   "metadata": {},
   "outputs": [
    {
     "name": "stdout",
     "output_type": "stream",
     "text": [
      "Best: 0.7857649922370911 using {'neurons': 25}\n",
      "Means: 0.7344692945480347, Stdev: 0.010687999269161816 with: {'neurons': 1}\n",
      "Means: 0.7658857107162476, Stdev: 0.017911941227378957 with: {'neurons': 5}\n",
      "Means: 0.7841675480206808, Stdev: 0.010049981973821738 with: {'neurons': 10}\n",
      "Means: 0.7273695468902588, Stdev: 0.08773184762144841 with: {'neurons': 15}\n",
      "Means: 0.7822151184082031, Stdev: 0.015438889862549526 with: {'neurons': 20}\n",
      "Means: 0.7857649922370911, Stdev: 0.015025238083413064 with: {'neurons': 25}\n",
      "Means: 0.7697905500729879, Stdev: 0.0073953477389052 with: {'neurons': 30}\n"
     ]
    }
   ],
   "source": [
    "print(f\"Best: {grid_result.best_score_} using {grid_result.best_params_}\")\n",
    "means = grid_result.cv_results_['mean_test_score']\n",
    "stds = grid_result.cv_results_['std_test_score']\n",
    "params = grid_result.cv_results_['params']\n",
    "for mean, stdev, param in zip(means, stds, params):\n",
    "    print(f\"Means: {mean}, Stdev: {stdev} with: {param}\")"
   ]
  },
  {
   "cell_type": "markdown",
   "metadata": {},
   "source": [
    "### Accuracy"
   ]
  },
  {
   "cell_type": "code",
   "execution_count": 62,
   "metadata": {},
   "outputs": [],
   "source": [
    "def create_model():\n",
    "    model = Sequential()\n",
    "    model.add(Dense(25, input_dim=46, kernel_initializer='normal', kernel_constraint=MaxNorm(5), activation='softsign'))\n",
    "    model.add(Dropout(rate=0.0))\n",
    "    model.add(Dense(25, kernel_initializer='normal', kernel_constraint=MaxNorm(5), activation='softsign'))\n",
    "    model.add(Dropout(rate=0.0))\n",
    "    model.add(Dense(1, kernel_initializer='normal', kernel_constraint=MaxNorm(4), activation='sigmoid'))\n",
    "    \n",
    "    optimizer = RMSprop(lr=0.01)\n",
    "    model.compile(loss = \"binary_crossentropy\", optimizer = optimizer, metrics=['accuracy'])\n",
    "    return model"
   ]
  },
  {
   "cell_type": "code",
   "execution_count": 63,
   "metadata": {},
   "outputs": [],
   "source": [
    "model = create_model()"
   ]
  },
  {
   "cell_type": "code",
   "execution_count": 64,
   "metadata": {},
   "outputs": [
    {
     "name": "stdout",
     "output_type": "stream",
     "text": [
      "Train on 5634 samples, validate on 1409 samples\n",
      "Epoch 1/100\n",
      "5634/5634 [==============================] - 11s 2ms/sample - loss: 0.5209 - acc: 0.7641 - val_loss: 0.5479 - val_acc: 0.7771\n",
      "Epoch 2/100\n",
      "5634/5634 [==============================] - 2s 410us/sample - loss: 0.5015 - acc: 0.7783 - val_loss: 0.5072 - val_acc: 0.7644\n",
      "Epoch 3/100\n",
      "5634/5634 [==============================] - 2s 434us/sample - loss: 0.4985 - acc: 0.7755 - val_loss: 0.4878 - val_acc: 0.7736\n",
      "Epoch 4/100\n",
      "5634/5634 [==============================] - 2s 434us/sample - loss: 0.4943 - acc: 0.7797 - val_loss: 0.4727 - val_acc: 0.7949\n",
      "Epoch 5/100\n",
      "5634/5634 [==============================] - 3s 449us/sample - loss: 0.4907 - acc: 0.7801 - val_loss: 0.4761 - val_acc: 0.7878\n",
      "Epoch 6/100\n",
      "5634/5634 [==============================] - 2s 425us/sample - loss: 0.4876 - acc: 0.7787 - val_loss: 0.6352 - val_acc: 0.4386\n",
      "Epoch 7/100\n",
      "5634/5634 [==============================] - 2s 435us/sample - loss: 0.4902 - acc: 0.7746 - val_loss: 0.5077 - val_acc: 0.7871\n",
      "Epoch 8/100\n",
      "5634/5634 [==============================] - 2s 420us/sample - loss: 0.4871 - acc: 0.7812 - val_loss: 0.4715 - val_acc: 0.7835\n",
      "Epoch 9/100\n",
      "5634/5634 [==============================] - 3s 468us/sample - loss: 0.4872 - acc: 0.7799 - val_loss: 0.4824 - val_acc: 0.7885\n",
      "Epoch 10/100\n",
      "5634/5634 [==============================] - 3s 571us/sample - loss: 0.4902 - acc: 0.7765 - val_loss: 0.5322 - val_acc: 0.7715\n",
      "Epoch 11/100\n",
      "5634/5634 [==============================] - 3s 493us/sample - loss: 0.4919 - acc: 0.7799 - val_loss: 0.4955 - val_acc: 0.7594\n",
      "Epoch 12/100\n",
      "5634/5634 [==============================] - 3s 516us/sample - loss: 0.4902 - acc: 0.7776 - val_loss: 0.4925 - val_acc: 0.7743\n",
      "Epoch 13/100\n",
      "5634/5634 [==============================] - 3s 472us/sample - loss: 0.4904 - acc: 0.7746 - val_loss: 0.4877 - val_acc: 0.7850\n",
      "Epoch 14/100\n",
      "5634/5634 [==============================] - 2s 428us/sample - loss: 0.4897 - acc: 0.7780 - val_loss: 0.5240 - val_acc: 0.7779\n",
      "Epoch 15/100\n",
      "5634/5634 [==============================] - 2s 425us/sample - loss: 0.4897 - acc: 0.7778 - val_loss: 0.4708 - val_acc: 0.7807\n",
      "Epoch 16/100\n",
      "5634/5634 [==============================] - 3s 446us/sample - loss: 0.4939 - acc: 0.7753 - val_loss: 0.4725 - val_acc: 0.7857\n",
      "Epoch 17/100\n",
      "5634/5634 [==============================] - 2s 429us/sample - loss: 0.4894 - acc: 0.7742 - val_loss: 0.4900 - val_acc: 0.7850\n",
      "Epoch 18/100\n",
      "5634/5634 [==============================] - 2s 413us/sample - loss: 0.4862 - acc: 0.7785 - val_loss: 0.4688 - val_acc: 0.7906\n",
      "Epoch 19/100\n",
      "5634/5634 [==============================] - 3s 448us/sample - loss: 0.4908 - acc: 0.7804 - val_loss: 0.5048 - val_acc: 0.7750\n",
      "Epoch 20/100\n",
      "5634/5634 [==============================] - 3s 459us/sample - loss: 0.4845 - acc: 0.7778 - val_loss: 0.5084 - val_acc: 0.7757\n",
      "Epoch 21/100\n",
      "5634/5634 [==============================] - 3s 444us/sample - loss: 0.4935 - acc: 0.7796 - val_loss: 0.4886 - val_acc: 0.7821\n",
      "Epoch 22/100\n",
      "5634/5634 [==============================] - 2s 433us/sample - loss: 0.4952 - acc: 0.7764 - val_loss: 0.4748 - val_acc: 0.7786\n",
      "Epoch 23/100\n",
      "5634/5634 [==============================] - 3s 460us/sample - loss: 0.4951 - acc: 0.7749 - val_loss: 0.4731 - val_acc: 0.7779\n",
      "Epoch 24/100\n",
      "5634/5634 [==============================] - 3s 608us/sample - loss: 0.4876 - acc: 0.7794 - val_loss: 0.4769 - val_acc: 0.7935\n",
      "Epoch 25/100\n",
      "5634/5634 [==============================] - 3s 444us/sample - loss: 0.4889 - acc: 0.7797 - val_loss: 0.4774 - val_acc: 0.7814\n",
      "Epoch 26/100\n",
      "5634/5634 [==============================] - 2s 436us/sample - loss: 0.4863 - acc: 0.7781 - val_loss: 0.5040 - val_acc: 0.7828\n",
      "Epoch 27/100\n",
      "5634/5634 [==============================] - 3s 448us/sample - loss: 0.4943 - acc: 0.7820 - val_loss: 0.5007 - val_acc: 0.7665\n",
      "Epoch 28/100\n",
      "5634/5634 [==============================] - 3s 476us/sample - loss: 0.4935 - acc: 0.7765 - val_loss: 0.4908 - val_acc: 0.7871\n",
      "Epoch 29/100\n",
      "5634/5634 [==============================] - 3s 452us/sample - loss: 0.4877 - acc: 0.7735 - val_loss: 0.4886 - val_acc: 0.7814\n",
      "Epoch 30/100\n",
      "5634/5634 [==============================] - 2s 437us/sample - loss: 0.4873 - acc: 0.7767 - val_loss: 0.4764 - val_acc: 0.7864\n",
      "Epoch 31/100\n",
      "5634/5634 [==============================] - 3s 444us/sample - loss: 0.4944 - acc: 0.7783 - val_loss: 0.4866 - val_acc: 0.7722\n",
      "Epoch 32/100\n",
      "5634/5634 [==============================] - 3s 465us/sample - loss: 0.4890 - acc: 0.7829 - val_loss: 0.4984 - val_acc: 0.7814\n",
      "Epoch 33/100\n",
      "5634/5634 [==============================] - 3s 445us/sample - loss: 0.4897 - acc: 0.7769 - val_loss: 0.5480 - val_acc: 0.7559\n",
      "Epoch 34/100\n",
      "5634/5634 [==============================] - 3s 447us/sample - loss: 0.4879 - acc: 0.7769 - val_loss: 0.4951 - val_acc: 0.7779\n",
      "Epoch 35/100\n",
      "5634/5634 [==============================] - 3s 577us/sample - loss: 0.4865 - acc: 0.7783 - val_loss: 0.4795 - val_acc: 0.7857\n",
      "Epoch 36/100\n",
      "5634/5634 [==============================] - 3s 547us/sample - loss: 0.4875 - acc: 0.7751 - val_loss: 0.4594 - val_acc: 0.7779\n",
      "Epoch 37/100\n",
      "5634/5634 [==============================] - 3s 598us/sample - loss: 0.4891 - acc: 0.7756 - val_loss: 0.5452 - val_acc: 0.7842\n",
      "Epoch 38/100\n",
      "5634/5634 [==============================] - 5s 914us/sample - loss: 0.4888 - acc: 0.7769 - val_loss: 0.4798 - val_acc: 0.7906\n",
      "Epoch 39/100\n",
      "5634/5634 [==============================] - 4s 704us/sample - loss: 0.4867 - acc: 0.7787 - val_loss: 0.4555 - val_acc: 0.7864\n",
      "Epoch 40/100\n",
      "5634/5634 [==============================] - 3s 611us/sample - loss: 0.4903 - acc: 0.7810 - val_loss: 0.4915 - val_acc: 0.7807\n",
      "Epoch 41/100\n",
      "5634/5634 [==============================] - 3s 505us/sample - loss: 0.4854 - acc: 0.7806 - val_loss: 0.4899 - val_acc: 0.7828\n",
      "Epoch 42/100\n",
      "5634/5634 [==============================] - 4s 666us/sample - loss: 0.4895 - acc: 0.7751 - val_loss: 0.4762 - val_acc: 0.7814\n",
      "Epoch 43/100\n",
      "5634/5634 [==============================] - 3s 573us/sample - loss: 0.4877 - acc: 0.7771 - val_loss: 0.5576 - val_acc: 0.7708\n",
      "Epoch 44/100\n",
      "5634/5634 [==============================] - 3s 466us/sample - loss: 0.4945 - acc: 0.7710 - val_loss: 0.4803 - val_acc: 0.7800\n",
      "Epoch 45/100\n",
      "5634/5634 [==============================] - 2s 431us/sample - loss: 0.4930 - acc: 0.7794 - val_loss: 0.4908 - val_acc: 0.7814\n",
      "Epoch 46/100\n",
      "5634/5634 [==============================] - 3s 583us/sample - loss: 0.4859 - acc: 0.7769 - val_loss: 0.4695 - val_acc: 0.7757\n",
      "Epoch 47/100\n",
      "5634/5634 [==============================] - 5s 880us/sample - loss: 0.4893 - acc: 0.7797 - val_loss: 0.4878 - val_acc: 0.7878\n",
      "Epoch 48/100\n",
      "5634/5634 [==============================] - 4s 645us/sample - loss: 0.4888 - acc: 0.7794 - val_loss: 0.4604 - val_acc: 0.7885\n",
      "Epoch 49/100\n",
      "5634/5634 [==============================] - 3s 586us/sample - loss: 0.4844 - acc: 0.7788 - val_loss: 0.4792 - val_acc: 0.7821\n",
      "Epoch 50/100\n",
      "5634/5634 [==============================] - 3s 552us/sample - loss: 0.4881 - acc: 0.7788 - val_loss: 0.4860 - val_acc: 0.7786\n",
      "Epoch 51/100\n",
      "5634/5634 [==============================] - 3s 454us/sample - loss: 0.4897 - acc: 0.7780 - val_loss: 0.4606 - val_acc: 0.7878\n",
      "Epoch 52/100\n",
      "5634/5634 [==============================] - 3s 493us/sample - loss: 0.4887 - acc: 0.7806 - val_loss: 0.4610 - val_acc: 0.7878\n",
      "Epoch 53/100\n",
      "5634/5634 [==============================] - 3s 524us/sample - loss: 0.4840 - acc: 0.7826 - val_loss: 0.4585 - val_acc: 0.7928\n",
      "Epoch 54/100\n",
      "5634/5634 [==============================] - 3s 498us/sample - loss: 0.4895 - acc: 0.7765 - val_loss: 0.4717 - val_acc: 0.7807\n",
      "Epoch 55/100\n",
      "5634/5634 [==============================] - 2s 432us/sample - loss: 0.4890 - acc: 0.7792 - val_loss: 0.4603 - val_acc: 0.7942\n",
      "Epoch 56/100\n",
      "5634/5634 [==============================] - 3s 534us/sample - loss: 0.4901 - acc: 0.7758 - val_loss: 0.5075 - val_acc: 0.7786\n",
      "Epoch 57/100\n",
      "5634/5634 [==============================] - 3s 481us/sample - loss: 0.4886 - acc: 0.7788 - val_loss: 0.4934 - val_acc: 0.7807\n",
      "Epoch 58/100\n",
      "5634/5634 [==============================] - 3s 448us/sample - loss: 0.4883 - acc: 0.7778 - val_loss: 0.4925 - val_acc: 0.7771\n",
      "Epoch 59/100\n"
     ]
    },
    {
     "name": "stdout",
     "output_type": "stream",
     "text": [
      "5634/5634 [==============================] - 3s 480us/sample - loss: 0.4932 - acc: 0.7728 - val_loss: 0.4942 - val_acc: 0.7899\n",
      "Epoch 60/100\n",
      "5634/5634 [==============================] - 3s 462us/sample - loss: 0.4864 - acc: 0.7812 - val_loss: 0.4852 - val_acc: 0.7793\n",
      "Epoch 61/100\n",
      "5634/5634 [==============================] - 3s 519us/sample - loss: 0.4880 - acc: 0.7767 - val_loss: 0.4849 - val_acc: 0.7842\n",
      "Epoch 62/100\n",
      "5634/5634 [==============================] - 3s 478us/sample - loss: 0.4902 - acc: 0.7792 - val_loss: 0.4785 - val_acc: 0.7892\n",
      "Epoch 63/100\n",
      "5634/5634 [==============================] - 3s 477us/sample - loss: 0.4888 - acc: 0.7771 - val_loss: 0.4781 - val_acc: 0.7857\n",
      "Epoch 64/100\n",
      "5634/5634 [==============================] - 3s 511us/sample - loss: 0.4916 - acc: 0.7737 - val_loss: 0.4637 - val_acc: 0.7885\n",
      "Epoch 65/100\n",
      "5634/5634 [==============================] - 3s 460us/sample - loss: 0.4913 - acc: 0.7783 - val_loss: 0.4743 - val_acc: 0.7885\n",
      "Epoch 66/100\n",
      "5634/5634 [==============================] - 3s 452us/sample - loss: 0.4892 - acc: 0.7812 - val_loss: 0.5003 - val_acc: 0.7807\n",
      "Epoch 67/100\n",
      "5634/5634 [==============================] - 3s 520us/sample - loss: 0.4903 - acc: 0.7749 - val_loss: 0.4688 - val_acc: 0.7885\n",
      "Epoch 68/100\n",
      "5634/5634 [==============================] - 4s 768us/sample - loss: 0.4860 - acc: 0.7797 - val_loss: 0.4896 - val_acc: 0.7878\n",
      "Epoch 69/100\n",
      "5634/5634 [==============================] - 3s 620us/sample - loss: 0.4883 - acc: 0.7810 - val_loss: 0.5512 - val_acc: 0.7828\n",
      "Epoch 70/100\n",
      "5634/5634 [==============================] - 3s 588us/sample - loss: 0.4858 - acc: 0.7806 - val_loss: 0.4903 - val_acc: 0.7842\n",
      "Epoch 71/100\n",
      "5634/5634 [==============================] - 3s 505us/sample - loss: 0.4904 - acc: 0.7801 - val_loss: 0.4644 - val_acc: 0.7949\n",
      "Epoch 72/100\n",
      "5634/5634 [==============================] - 3s 502us/sample - loss: 0.4896 - acc: 0.7758 - val_loss: 0.4832 - val_acc: 0.7757\n",
      "Epoch 73/100\n",
      "5634/5634 [==============================] - 3s 593us/sample - loss: 0.4945 - acc: 0.7765 - val_loss: 0.5035 - val_acc: 0.7793\n",
      "Epoch 74/100\n",
      "5634/5634 [==============================] - 3s 448us/sample - loss: 0.4911 - acc: 0.7785 - val_loss: 0.4916 - val_acc: 0.7828\n",
      "Epoch 75/100\n",
      "5634/5634 [==============================] - 2s 429us/sample - loss: 0.4881 - acc: 0.7762 - val_loss: 0.4945 - val_acc: 0.7700\n",
      "Epoch 76/100\n",
      "5634/5634 [==============================] - 2s 423us/sample - loss: 0.4901 - acc: 0.7815 - val_loss: 0.5008 - val_acc: 0.7793\n",
      "Epoch 77/100\n",
      "5634/5634 [==============================] - 2s 419us/sample - loss: 0.4906 - acc: 0.7778 - val_loss: 0.4853 - val_acc: 0.7757\n",
      "Epoch 78/100\n",
      "5634/5634 [==============================] - 3s 553us/sample - loss: 0.4884 - acc: 0.7765 - val_loss: 0.4972 - val_acc: 0.7793\n",
      "Epoch 79/100\n",
      "5634/5634 [==============================] - 3s 550us/sample - loss: 0.4922 - acc: 0.7767 - val_loss: 0.5185 - val_acc: 0.7800\n",
      "Epoch 80/100\n",
      "5634/5634 [==============================] - 4s 685us/sample - loss: 0.4902 - acc: 0.7785 - val_loss: 0.4740 - val_acc: 0.7800\n",
      "Epoch 81/100\n",
      "5634/5634 [==============================] - 3s 518us/sample - loss: 0.4846 - acc: 0.7746 - val_loss: 0.4604 - val_acc: 0.7913\n",
      "Epoch 82/100\n",
      "5634/5634 [==============================] - 3s 516us/sample - loss: 0.4866 - acc: 0.7781 - val_loss: 0.4731 - val_acc: 0.7949\n",
      "Epoch 83/100\n",
      "5634/5634 [==============================] - 3s 474us/sample - loss: 0.4882 - acc: 0.7769 - val_loss: 0.4707 - val_acc: 0.7842\n",
      "Epoch 84/100\n",
      "5634/5634 [==============================] - 3s 492us/sample - loss: 0.4906 - acc: 0.7781 - val_loss: 0.4726 - val_acc: 0.7708\n",
      "Epoch 85/100\n",
      "5634/5634 [==============================] - 3s 460us/sample - loss: 0.4894 - acc: 0.7836 - val_loss: 0.4896 - val_acc: 0.7800\n",
      "Epoch 86/100\n",
      "5634/5634 [==============================] - 3s 444us/sample - loss: 0.4952 - acc: 0.7781 - val_loss: 0.4816 - val_acc: 0.7779\n",
      "Epoch 87/100\n",
      "5634/5634 [==============================] - 2s 443us/sample - loss: 0.4931 - acc: 0.7730 - val_loss: 0.4749 - val_acc: 0.7828\n",
      "Epoch 88/100\n",
      "5634/5634 [==============================] - 3s 509us/sample - loss: 0.4867 - acc: 0.7769 - val_loss: 0.4831 - val_acc: 0.7800\n",
      "Epoch 89/100\n",
      "5634/5634 [==============================] - 2s 438us/sample - loss: 0.4882 - acc: 0.7783 - val_loss: 0.4845 - val_acc: 0.7949\n",
      "Epoch 90/100\n",
      "5634/5634 [==============================] - 3s 465us/sample - loss: 0.4944 - acc: 0.7810 - val_loss: 0.4746 - val_acc: 0.7821\n",
      "Epoch 91/100\n",
      "5634/5634 [==============================] - 3s 457us/sample - loss: 0.4879 - acc: 0.7767 - val_loss: 0.4970 - val_acc: 0.7999\n",
      "Epoch 92/100\n",
      "5634/5634 [==============================] - 3s 480us/sample - loss: 0.4934 - acc: 0.7765 - val_loss: 0.4749 - val_acc: 0.7913\n",
      "Epoch 93/100\n",
      "5634/5634 [==============================] - 3s 445us/sample - loss: 0.4934 - acc: 0.7758 - val_loss: 0.5066 - val_acc: 0.7864\n",
      "Epoch 94/100\n",
      "5634/5634 [==============================] - 3s 462us/sample - loss: 0.4883 - acc: 0.7820 - val_loss: 0.5158 - val_acc: 0.7871\n",
      "Epoch 95/100\n",
      "5634/5634 [==============================] - 3s 461us/sample - loss: 0.4879 - acc: 0.7774 - val_loss: 0.4841 - val_acc: 0.7871\n",
      "Epoch 96/100\n",
      "5634/5634 [==============================] - 3s 474us/sample - loss: 0.4865 - acc: 0.7732 - val_loss: 0.4966 - val_acc: 0.7771\n",
      "Epoch 97/100\n",
      "5634/5634 [==============================] - 3s 446us/sample - loss: 0.4856 - acc: 0.7815 - val_loss: 0.4831 - val_acc: 0.7878\n",
      "Epoch 98/100\n",
      "5634/5634 [==============================] - 3s 479us/sample - loss: 0.4931 - acc: 0.7749 - val_loss: 0.5160 - val_acc: 0.7708\n",
      "Epoch 99/100\n",
      "5634/5634 [==============================] - 3s 480us/sample - loss: 0.4875 - acc: 0.7797 - val_loss: 0.5486 - val_acc: 0.7601\n",
      "Epoch 100/100\n",
      "5634/5634 [==============================] - 3s 533us/sample - loss: 0.4888 - acc: 0.7771 - val_loss: 0.5307 - val_acc: 0.7935\n"
     ]
    }
   ],
   "source": [
    "history = model.fit(X_train, y_train, validation_data=(X_test, y_test), epochs=100, batch_size=20)"
   ]
  },
  {
   "cell_type": "code",
   "execution_count": 65,
   "metadata": {},
   "outputs": [
    {
     "data": {
      "image/png": "[encoded data removed]",
      "text/plain": [
       "<Figure size 432x288 with 1 Axes>"
      ]
     },
     "metadata": {
      "needs_background": "light"
     },
     "output_type": "display_data"
    }
   ],
   "source": [
    "plt.plot(history.history['acc'])\n",
    "plt.plot(history.history['val_acc'])\n",
    "plt.title('model accuracy')\n",
    "plt.ylabel('accuracy')\n",
    "plt.xlabel('epoch')\n",
    "plt.legend(['train', 'test'], loc='upper left')\n",
    "plt.show()"
   ]
  },
  {
   "cell_type": "markdown",
   "metadata": {
    "colab_type": "text",
    "id": "FfZRtJ7MCN3x"
   },
   "source": [
    "## Stretch Goals:\n",
    "\n",
    "- Try to implement Random Search Hyperparameter Tuning on this dataset\n",
    "- Try to implement Bayesian Optimiation tuning on this dataset using hyperas or hyperopt (if you're brave)\n",
    "- Practice hyperparameter tuning other datasets that we have looked at. How high can you get MNIST? Above 99%?\n",
    "- Study for the Sprint Challenge\n",
    " - Can you implement both perceptron and MLP models from scratch with forward and backpropagation?\n",
    " - Can you implement both perceptron and MLP models in keras and tune their hyperparameters with cross validation?"
   ]
  },
  {
   "cell_type": "code",
   "execution_count": null,
   "metadata": {},
   "outputs": [],
   "source": []
  }
 ],
 "metadata": {
  "colab": {
   "name": "LS_DS_434_Hyperparameter_Tuning_Assignment.ipynb",
   "provenance": [],
   "version": "0.3.2"
  },
  "kernelspec": {
   "display_name": "Python 3",
   "language": "python",
   "name": "python3"
  },
  "language_info": {
   "codemirror_mode": {
    "name": "ipython",
    "version": 3
   },
   "file_extension": ".py",
   "mimetype": "text/x-python",
   "name": "python",
   "nbconvert_exporter": "python",
   "pygments_lexer": "ipython3",
   "version": "3.7.0"
  }
 },
 "nbformat": 4,
 "nbformat_minor": 2
}
