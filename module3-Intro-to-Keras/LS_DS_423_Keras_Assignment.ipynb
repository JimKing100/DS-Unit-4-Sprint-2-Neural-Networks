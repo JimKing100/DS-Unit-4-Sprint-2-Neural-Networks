{
 "cells": [
  {
   "cell_type": "markdown",
   "metadata": {
    "colab_type": "text",
    "id": "pBQsZEJmubLs"
   },
   "source": [
    "<img align=\"left\" src=\"https://lever-client-logos.s3.amazonaws.com/864372b1-534c-480e-acd5-9711f850815c-1524247202159.png\" width=200>\n",
    "<br></br>\n",
    "\n",
    "# Neural Network Framework (Keras)\n",
    "\n",
    "## *Data Science Unit 4 Sprint 2 Assignmnet 3*\n",
    "\n",
    "## Use the Keras Library to build a Multi-Layer Perceptron Model on the Boston Housing dataset\n",
    "\n",
    "- The Boston Housing dataset comes with the Keras library so use Keras to import it into your notebook. \n",
    "- Normalize the data (all features should have roughly the same scale)\n",
    "- Import the type of model and layers that you will need from Keras.\n",
    "- Instantiate a model object and use `model.add()` to add layers to your model\n",
    "- Since this is a regression model you will have a single output node in the final layer.\n",
    "- Use activation functions that are appropriate for this task\n",
    "- Compile your model\n",
    "- Fit your model and report its accuracy in terms of Mean Squared Error\n",
    "- Use the history object that is returned from model.fit to make graphs of the model's loss or train/validation accuracies by epoch. \n",
    "- Run this same data through a linear regression model. Which achieves higher accuracy?\n",
    "- Do a little bit of feature engineering and see how that affects your neural network model. (you will need to change your model to accept more inputs)\n",
    "- After feature engineering, which model sees a greater accuracy boost due to the new features?"
   ]
  },
  {
   "cell_type": "code",
   "execution_count": 1,
   "metadata": {
    "colab": {},
    "colab_type": "code",
    "id": "8NLTAR87uYJ-"
   },
   "outputs": [],
   "source": [
    "#imports\n",
    "import pandas as pd\n",
    "import matplotlib.pyplot as plt\n",
    "from sklearn.preprocessing import MinMaxScaler, minmax_scale\n",
    "from sklearn.model_selection import train_test_split\n",
    "\n",
    "import tensorflow as tf\n",
    "from tensorflow import keras\n",
    "from tensorflow.keras import Sequential\n",
    "from tensorflow.keras.layers import Dense\n",
    "from tensorflow.keras.datasets import boston_housing"
   ]
  },
  {
   "cell_type": "code",
   "execution_count": 2,
   "metadata": {},
   "outputs": [
    {
     "data": {
      "text/html": [
       "<div>\n",
       "<style scoped>\n",
       "    .dataframe tbody tr th:only-of-type {\n",
       "        vertical-align: middle;\n",
       "    }\n",
       "\n",
       "    .dataframe tbody tr th {\n",
       "        vertical-align: top;\n",
       "    }\n",
       "\n",
       "    .dataframe thead th {\n",
       "        text-align: right;\n",
       "    }\n",
       "</style>\n",
       "<table border=\"1\" class=\"dataframe\">\n",
       "  <thead>\n",
       "    <tr style=\"text-align: right;\">\n",
       "      <th></th>\n",
       "      <th>crim</th>\n",
       "      <th>zn</th>\n",
       "      <th>indus</th>\n",
       "      <th>chas</th>\n",
       "      <th>nox</th>\n",
       "      <th>rm</th>\n",
       "      <th>age</th>\n",
       "      <th>dis</th>\n",
       "      <th>rad</th>\n",
       "      <th>tax</th>\n",
       "      <th>ptratio</th>\n",
       "      <th>b</th>\n",
       "      <th>lstat</th>\n",
       "      <th>medv</th>\n",
       "    </tr>\n",
       "  </thead>\n",
       "  <tbody>\n",
       "    <tr>\n",
       "      <th>0</th>\n",
       "      <td>0.00632</td>\n",
       "      <td>18.0</td>\n",
       "      <td>2.31</td>\n",
       "      <td>0</td>\n",
       "      <td>0.538</td>\n",
       "      <td>6.575</td>\n",
       "      <td>65.2</td>\n",
       "      <td>4.0900</td>\n",
       "      <td>1</td>\n",
       "      <td>296</td>\n",
       "      <td>15.3</td>\n",
       "      <td>396.90</td>\n",
       "      <td>4.98</td>\n",
       "      <td>24.0</td>\n",
       "    </tr>\n",
       "    <tr>\n",
       "      <th>1</th>\n",
       "      <td>0.02731</td>\n",
       "      <td>0.0</td>\n",
       "      <td>7.07</td>\n",
       "      <td>0</td>\n",
       "      <td>0.469</td>\n",
       "      <td>6.421</td>\n",
       "      <td>78.9</td>\n",
       "      <td>4.9671</td>\n",
       "      <td>2</td>\n",
       "      <td>242</td>\n",
       "      <td>17.8</td>\n",
       "      <td>396.90</td>\n",
       "      <td>9.14</td>\n",
       "      <td>21.6</td>\n",
       "    </tr>\n",
       "    <tr>\n",
       "      <th>2</th>\n",
       "      <td>0.02729</td>\n",
       "      <td>0.0</td>\n",
       "      <td>7.07</td>\n",
       "      <td>0</td>\n",
       "      <td>0.469</td>\n",
       "      <td>7.185</td>\n",
       "      <td>61.1</td>\n",
       "      <td>4.9671</td>\n",
       "      <td>2</td>\n",
       "      <td>242</td>\n",
       "      <td>17.8</td>\n",
       "      <td>392.83</td>\n",
       "      <td>4.03</td>\n",
       "      <td>34.7</td>\n",
       "    </tr>\n",
       "    <tr>\n",
       "      <th>3</th>\n",
       "      <td>0.03237</td>\n",
       "      <td>0.0</td>\n",
       "      <td>2.18</td>\n",
       "      <td>0</td>\n",
       "      <td>0.458</td>\n",
       "      <td>6.998</td>\n",
       "      <td>45.8</td>\n",
       "      <td>6.0622</td>\n",
       "      <td>3</td>\n",
       "      <td>222</td>\n",
       "      <td>18.7</td>\n",
       "      <td>394.63</td>\n",
       "      <td>2.94</td>\n",
       "      <td>33.4</td>\n",
       "    </tr>\n",
       "    <tr>\n",
       "      <th>4</th>\n",
       "      <td>0.06905</td>\n",
       "      <td>0.0</td>\n",
       "      <td>2.18</td>\n",
       "      <td>0</td>\n",
       "      <td>0.458</td>\n",
       "      <td>7.147</td>\n",
       "      <td>54.2</td>\n",
       "      <td>6.0622</td>\n",
       "      <td>3</td>\n",
       "      <td>222</td>\n",
       "      <td>18.7</td>\n",
       "      <td>396.90</td>\n",
       "      <td>5.33</td>\n",
       "      <td>36.2</td>\n",
       "    </tr>\n",
       "  </tbody>\n",
       "</table>\n",
       "</div>"
      ],
      "text/plain": [
       "      crim    zn  indus  chas    nox     rm   age     dis  rad  tax  ptratio  \\\n",
       "0  0.00632  18.0   2.31     0  0.538  6.575  65.2  4.0900    1  296     15.3   \n",
       "1  0.02731   0.0   7.07     0  0.469  6.421  78.9  4.9671    2  242     17.8   \n",
       "2  0.02729   0.0   7.07     0  0.469  7.185  61.1  4.9671    2  242     17.8   \n",
       "3  0.03237   0.0   2.18     0  0.458  6.998  45.8  6.0622    3  222     18.7   \n",
       "4  0.06905   0.0   2.18     0  0.458  7.147  54.2  6.0622    3  222     18.7   \n",
       "\n",
       "        b  lstat  medv  \n",
       "0  396.90   4.98  24.0  \n",
       "1  396.90   9.14  21.6  \n",
       "2  392.83   4.03  34.7  \n",
       "3  394.63   2.94  33.4  \n",
       "4  396.90   5.33  36.2  "
      ]
     },
     "execution_count": 2,
     "metadata": {},
     "output_type": "execute_result"
    }
   ],
   "source": [
    "train = pd.read_csv('https://raw.githubusercontent.com/selva86/datasets/master/BostonHousing.csv')\n",
    "train.head()"
   ]
  },
  {
   "cell_type": "code",
   "execution_count": 3,
   "metadata": {},
   "outputs": [
    {
     "name": "stdout",
     "output_type": "stream",
     "text": [
      "(455, 14) (51, 14)\n"
     ]
    }
   ],
   "source": [
    "train, test = train_test_split(train, train_size=0.90, test_size=0.10, random_state=42)\n",
    "print(train.shape, test.shape)"
   ]
  },
  {
   "cell_type": "code",
   "execution_count": 4,
   "metadata": {},
   "outputs": [],
   "source": [
    "scaler = MinMaxScaler(feature_range=(0, 1))\n",
    "scaled_train = scaler.fit_transform(train)\n",
    "scaler = MinMaxScaler(feature_range=(0, 1))\n",
    "scaled_test = scaler.fit_transform(test)"
   ]
  },
  {
   "cell_type": "code",
   "execution_count": 5,
   "metadata": {},
   "outputs": [],
   "source": [
    "scaled_train_df = pd.DataFrame(scaled_train, columns=train.columns.values)\n",
    "scaled_test_df = pd.DataFrame(scaled_test, columns=test.columns.values)"
   ]
  },
  {
   "cell_type": "code",
   "execution_count": 6,
   "metadata": {},
   "outputs": [],
   "source": [
    "target = 'medv'\n",
    "X = scaled_train_df.drop(target, axis=1).values\n",
    "Y = scaled_train_df[[target]].values\n",
    "X_test = scaled_test_df.drop(target, axis=1).values\n",
    "Y_test = scaled_test_df[[target]].values"
   ]
  },
  {
   "cell_type": "code",
   "execution_count": 7,
   "metadata": {},
   "outputs": [
    {
     "name": "stderr",
     "output_type": "stream",
     "text": [
      "WARNING: Logging before flag parsing goes to stderr.\n",
      "W0203 16:01:34.674477 4329852352 deprecation.py:506] From /Users/JKMacBook/opt/anaconda3/envs/NN/lib/python3.7/site-packages/tensorflow/python/ops/init_ops.py:1251: calling VarianceScaling.__init__ (from tensorflow.python.ops.init_ops) with dtype is deprecated and will be removed in a future version.\n",
      "Instructions for updating:\n",
      "Call initializer instance with the dtype argument instead of passing it to the constructor\n"
     ]
    }
   ],
   "source": [
    "#build our model\n",
    "model = Sequential()\n",
    "\n",
    "model.add(Dense(50, activation='relu'))\n",
    "model.add(Dense(100, activation='relu'))\n",
    "model.add(Dense(50, activation='relu'))\n",
    "model.add(Dense(1))"
   ]
  },
  {
   "cell_type": "code",
   "execution_count": 8,
   "metadata": {},
   "outputs": [],
   "source": [
    "model.compile(loss='mean_squared_error', optimizer='adam')"
   ]
  },
  {
   "cell_type": "code",
   "execution_count": 9,
   "metadata": {},
   "outputs": [
    {
     "name": "stdout",
     "output_type": "stream",
     "text": [
      "Epoch 1/50\n",
      "455/455 [==============================] - 0s 672us/sample - loss: 0.0962\n",
      "Epoch 2/50\n",
      "455/455 [==============================] - 0s 99us/sample - loss: 0.0418\n",
      "Epoch 3/50\n",
      "455/455 [==============================] - 0s 127us/sample - loss: 0.0278\n",
      "Epoch 4/50\n",
      "455/455 [==============================] - 0s 100us/sample - loss: 0.0181\n",
      "Epoch 5/50\n",
      "455/455 [==============================] - 0s 118us/sample - loss: 0.0143\n",
      "Epoch 6/50\n",
      "455/455 [==============================] - 0s 154us/sample - loss: 0.0127\n",
      "Epoch 7/50\n",
      "455/455 [==============================] - 0s 109us/sample - loss: 0.0109\n",
      "Epoch 8/50\n",
      "455/455 [==============================] - 0s 97us/sample - loss: 0.0095\n",
      "Epoch 9/50\n",
      "455/455 [==============================] - 0s 71us/sample - loss: 0.0087\n",
      "Epoch 10/50\n",
      "455/455 [==============================] - 0s 72us/sample - loss: 0.0086\n",
      "Epoch 11/50\n",
      "455/455 [==============================] - 0s 74us/sample - loss: 0.0079\n",
      "Epoch 12/50\n",
      "455/455 [==============================] - 0s 74us/sample - loss: 0.0079\n",
      "Epoch 13/50\n",
      "455/455 [==============================] - 0s 98us/sample - loss: 0.0079\n",
      "Epoch 14/50\n",
      "455/455 [==============================] - 0s 80us/sample - loss: 0.0072\n",
      "Epoch 15/50\n",
      "455/455 [==============================] - 0s 84us/sample - loss: 0.0069\n",
      "Epoch 16/50\n",
      "455/455 [==============================] - 0s 84us/sample - loss: 0.0066\n",
      "Epoch 17/50\n",
      "455/455 [==============================] - 0s 71us/sample - loss: 0.0060\n",
      "Epoch 18/50\n",
      "455/455 [==============================] - 0s 73us/sample - loss: 0.0058\n",
      "Epoch 19/50\n",
      "455/455 [==============================] - 0s 79us/sample - loss: 0.0062\n",
      "Epoch 20/50\n",
      "455/455 [==============================] - 0s 74us/sample - loss: 0.0060\n",
      "Epoch 21/50\n",
      "455/455 [==============================] - 0s 74us/sample - loss: 0.0056\n",
      "Epoch 22/50\n",
      "455/455 [==============================] - 0s 72us/sample - loss: 0.0050\n",
      "Epoch 23/50\n",
      "455/455 [==============================] - 0s 77us/sample - loss: 0.0047\n",
      "Epoch 24/50\n",
      "455/455 [==============================] - 0s 75us/sample - loss: 0.0046\n",
      "Epoch 25/50\n",
      "455/455 [==============================] - 0s 94us/sample - loss: 0.0045\n",
      "Epoch 26/50\n",
      "455/455 [==============================] - 0s 103us/sample - loss: 0.0044\n",
      "Epoch 27/50\n",
      "455/455 [==============================] - 0s 85us/sample - loss: 0.0043\n",
      "Epoch 28/50\n",
      "455/455 [==============================] - 0s 67us/sample - loss: 0.0042\n",
      "Epoch 29/50\n",
      "455/455 [==============================] - 0s 82us/sample - loss: 0.0039\n",
      "Epoch 30/50\n",
      "455/455 [==============================] - 0s 87us/sample - loss: 0.0057\n",
      "Epoch 31/50\n",
      "455/455 [==============================] - 0s 79us/sample - loss: 0.0068\n",
      "Epoch 32/50\n",
      "455/455 [==============================] - 0s 72us/sample - loss: 0.0048\n",
      "Epoch 33/50\n",
      "455/455 [==============================] - 0s 93us/sample - loss: 0.0039\n",
      "Epoch 34/50\n",
      "455/455 [==============================] - 0s 89us/sample - loss: 0.0035\n",
      "Epoch 35/50\n",
      "455/455 [==============================] - 0s 75us/sample - loss: 0.0034\n",
      "Epoch 36/50\n",
      "455/455 [==============================] - 0s 88us/sample - loss: 0.0035\n",
      "Epoch 37/50\n",
      "455/455 [==============================] - 0s 77us/sample - loss: 0.0034\n",
      "Epoch 38/50\n",
      "455/455 [==============================] - 0s 79us/sample - loss: 0.0035\n",
      "Epoch 39/50\n",
      "455/455 [==============================] - 0s 87us/sample - loss: 0.0032\n",
      "Epoch 40/50\n",
      "455/455 [==============================] - 0s 75us/sample - loss: 0.0033\n",
      "Epoch 41/50\n",
      "455/455 [==============================] - 0s 100us/sample - loss: 0.0039\n",
      "Epoch 42/50\n",
      "455/455 [==============================] - 0s 102us/sample - loss: 0.0033\n",
      "Epoch 43/50\n",
      "455/455 [==============================] - 0s 71us/sample - loss: 0.0032\n",
      "Epoch 44/50\n",
      "455/455 [==============================] - 0s 77us/sample - loss: 0.0035\n",
      "Epoch 45/50\n",
      "455/455 [==============================] - 0s 82us/sample - loss: 0.0036\n",
      "Epoch 46/50\n",
      "455/455 [==============================] - 0s 70us/sample - loss: 0.0032\n",
      "Epoch 47/50\n",
      "455/455 [==============================] - 0s 74us/sample - loss: 0.0029\n",
      "Epoch 48/50\n",
      "455/455 [==============================] - 0s 71us/sample - loss: 0.0029\n",
      "Epoch 49/50\n",
      "455/455 [==============================] - 0s 81us/sample - loss: 0.0029\n",
      "Epoch 50/50\n",
      "455/455 [==============================] - 0s 75us/sample - loss: 0.0028\n"
     ]
    },
    {
     "data": {
      "text/plain": [
       "<tensorflow.python.keras.callbacks.History at 0x128ea89b0>"
      ]
     },
     "execution_count": 9,
     "metadata": {},
     "output_type": "execute_result"
    }
   ],
   "source": [
    "# Train the model\n",
    "model.fit(\n",
    "    X,\n",
    "    Y,\n",
    "    epochs=50\n",
    ")"
   ]
  },
  {
   "cell_type": "code",
   "execution_count": 10,
   "metadata": {},
   "outputs": [
    {
     "name": "stdout",
     "output_type": "stream",
     "text": [
      "51/51 [==============================] - 0s 2ms/sample - loss: 0.0047\n"
     ]
    }
   ],
   "source": [
    "scores = model.evaluate(X_test, Y_test)"
   ]
  },
  {
   "cell_type": "code",
   "execution_count": 11,
   "metadata": {},
   "outputs": [
    {
     "data": {
      "text/plain": [
       "0.004680720103137633"
      ]
     },
     "execution_count": 11,
     "metadata": {},
     "output_type": "execute_result"
    }
   ],
   "source": [
    "scores"
   ]
  },
  {
   "cell_type": "code",
   "execution_count": 12,
   "metadata": {},
   "outputs": [
    {
     "data": {
      "image/png": "[encoded data removed]",
      "text/plain": [
       "<Figure size 432x288 with 1 Axes>"
      ]
     },
     "metadata": {
      "needs_background": "light"
     },
     "output_type": "display_data"
    }
   ],
   "source": [
    "history = model.fit(X, Y, validation_split=0.25, epochs=50, batch_size=16, verbose=0)\n",
    "plt.plot(history.history['loss'])\n",
    "plt.title('Model loss')\n",
    "plt.ylabel('Loss')\n",
    "plt.xlabel('Epoch')\n",
    "plt.legend(['Train', 'Test'], loc='upper left')\n",
    "plt.show()"
   ]
  },
  {
   "cell_type": "code",
   "execution_count": 13,
   "metadata": {},
   "outputs": [
    {
     "name": "stdout",
     "output_type": "stream",
     "text": [
      "Test Mean Squared Error: 14.99585287658263\n",
      "Test Mean Absolute Error: 2.8342104578589704\n",
      "Test R^2: 0.7598135533532476\n"
     ]
    }
   ],
   "source": [
    "import numpy as np\n",
    "from sklearn.preprocessing import OrdinalEncoder, OneHotEncoder\n",
    "from sklearn.impute import SimpleImputer\n",
    "from sklearn.linear_model import LinearRegression\n",
    "from sklearn.pipeline import make_pipeline\n",
    "from sklearn.metrics import mean_absolute_error, mean_squared_error, r2_score\n",
    "\n",
    "# Encode and fit a linear regression model\n",
    "\n",
    "target = 'medv'\n",
    "X_train = train.drop(target, axis=1).values\n",
    "y_train = train[[target]].values\n",
    "X_test = test.drop(target, axis=1).values\n",
    "y_test = test[[target]].values\n",
    "\n",
    "pipeline = make_pipeline(\n",
    "  SimpleImputer(strategy='mean'),\n",
    "  LinearRegression()\n",
    ")\n",
    "\n",
    "pipeline.fit(X_train, y_train)\n",
    "\n",
    "ty_pred = pipeline.predict(X_test)\n",
    "\n",
    "# Print regression metrics for test\n",
    "test_mse = mean_squared_error(y_test, ty_pred)\n",
    "test_rmse = np.sqrt(test_mse)\n",
    "test_mae = mean_absolute_error(y_test, ty_pred)\n",
    "test_r2 = r2_score(y_test, ty_pred)\n",
    "print('Test Mean Squared Error:', test_mse)\n",
    "print('Test Mean Absolute Error:', test_mae)\n",
    "print('Test R^2:', test_r2)"
   ]
  },
  {
   "cell_type": "markdown",
   "metadata": {
    "colab_type": "text",
    "id": "SfcFnOONyuNm"
   },
   "source": [
    "## Use the Keras Library to build an image recognition network using the Fashion-MNIST dataset (also comes with keras)\n",
    "\n",
    "- Load and preprocess the image data similar to how we preprocessed the MNIST data in class.\n",
    "- Make sure to one-hot encode your category labels\n",
    "- Make sure to have your final layer have as many nodes as the number of classes that you want to predict.\n",
    "- Try different hyperparameters. What is the highest accuracy that you are able to achieve.\n",
    "- Use the history object that is returned from model.fit to make graphs of the model's loss or train/validation accuracies by epoch. \n",
    "- Remember that neural networks fall prey to randomness so you may need to run your model multiple times (or use Cross Validation) in order to tell if a change to a hyperparameter is truly producing better results."
   ]
  },
  {
   "cell_type": "code",
   "execution_count": 14,
   "metadata": {
    "colab": {},
    "colab_type": "code",
    "id": "szi6-IpuzaH1"
   },
   "outputs": [],
   "source": [
    "##### Your Code Here #####"
   ]
  },
  {
   "cell_type": "markdown",
   "metadata": {
    "colab_type": "text",
    "id": "zv_3xNMjzdLI"
   },
   "source": [
    "## Stretch Goals:\n",
    "\n",
    "- Use Hyperparameter Tuning to make the accuracy of your models as high as possible. (error as low as possible)\n",
    "- Use Cross Validation techniques to get more consistent results with your model.\n",
    "- Use GridSearchCV to try different combinations of hyperparameters. \n",
    "- Start looking into other types of Keras layers for CNNs and RNNs maybe try and build a CNN model for fashion-MNIST to see how the results compare."
   ]
  }
 ],
 "metadata": {
  "colab": {
   "name": "LS_DS_433_Keras_Assignment.ipynb",
   "provenance": [],
   "version": "0.3.2"
  },
  "kernelspec": {
   "display_name": "NN",
   "language": "python",
   "name": "nn"
  },
  "language_info": {
   "codemirror_mode": {
    "name": "ipython",
    "version": 3
   },
   "file_extension": ".py",
   "mimetype": "text/x-python",
   "name": "python",
   "nbconvert_exporter": "python",
   "pygments_lexer": "ipython3",
   "version": "3.7.0"
  }
 },
 "nbformat": 4,
 "nbformat_minor": 2
}
